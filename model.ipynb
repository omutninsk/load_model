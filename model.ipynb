{
 "cells": [
  {
   "cell_type": "markdown",
   "metadata": {},
   "source": [
    "Допустим, у нас есть следующие данные для обучения модели:\n",
    "\n",
    "Количество запросов по каждому эндпоинту\n",
    "Время выполнения запроса для каждого эндпоинта\n",
    "Количество обрабатываемых в настоящий момент запросов каждым эндпоинтом\n",
    "Поля запроса\n",
    "\n",
    "время выполнения запроса = константа + a * количество запросов за квант времени +  c * количество обрабатываемых запросов\n",
    "\n",
    "\n"
   ]
  },
  {
   "cell_type": "markdown",
   "metadata": {},
   "source": [
    "Для сбора трейсов создаем два микросервиса\n",
    "Первый запускает указанное количество параллельных запросов на второй, поведение которого нас интересует"
   ]
  },
  {
   "cell_type": "markdown",
   "metadata": {},
   "source": [
    "# 1. Подготовка данных"
   ]
  },
  {
   "cell_type": "markdown",
   "metadata": {},
   "source": [
    "Выгружаем логи из Kibana и формируем датасет"
   ]
  },
  {
   "cell_type": "code",
   "execution_count": 74,
   "metadata": {},
   "outputs": [],
   "source": [
    "import pandas as pd"
   ]
  },
  {
   "cell_type": "code",
   "execution_count": 75,
   "metadata": {},
   "outputs": [],
   "source": [
    "data = pd.read_csv('dataset.csv', sep = ',')"
   ]
  },
  {
   "cell_type": "code",
   "execution_count": 76,
   "metadata": {},
   "outputs": [
    {
     "data": {
      "text/html": [
       "<div>\n",
       "<style scoped>\n",
       "    .dataframe tbody tr th:only-of-type {\n",
       "        vertical-align: middle;\n",
       "    }\n",
       "\n",
       "    .dataframe tbody tr th {\n",
       "        vertical-align: top;\n",
       "    }\n",
       "\n",
       "    .dataframe thead th {\n",
       "        text-align: right;\n",
       "    }\n",
       "</style>\n",
       "<table border=\"1\" class=\"dataframe\">\n",
       "  <thead>\n",
       "    <tr style=\"text-align: right;\">\n",
       "      <th></th>\n",
       "      <th>_id</th>\n",
       "      <th>_index</th>\n",
       "      <th>_score</th>\n",
       "      <th>_type</th>\n",
       "      <th>duration</th>\n",
       "      <th>flags</th>\n",
       "      <th>logs</th>\n",
       "      <th>operationName</th>\n",
       "      <th>process.serviceName</th>\n",
       "      <th>process.tags</th>\n",
       "      <th>references</th>\n",
       "      <th>spanID</th>\n",
       "      <th>startTime</th>\n",
       "      <th>startTimeMillis</th>\n",
       "      <th>tags</th>\n",
       "      <th>traceID</th>\n",
       "    </tr>\n",
       "  </thead>\n",
       "  <tbody>\n",
       "    <tr>\n",
       "      <th>0</th>\n",
       "      <td>jj-OQYcBJPdS4Lm3m1lG</td>\n",
       "      <td>jaeger-span-2023-04-02</td>\n",
       "      <td>NaN</td>\n",
       "      <td>_doc</td>\n",
       "      <td>26,527,144</td>\n",
       "      <td>1</td>\n",
       "      <td>[]</td>\n",
       "      <td>/generate_image</td>\n",
       "      <td>microservice1</td>\n",
       "      <td>[]</td>\n",
       "      <td>[{\"refType\":\"CHILD_OF\",\"traceID\":\"7a24b2de56c1...</td>\n",
       "      <td>dc3da4088b1fc504</td>\n",
       "      <td>1,680,432,050,219,714</td>\n",
       "      <td>Apr 2, 2023 @ 10:40:50.219</td>\n",
       "      <td>[{\"key\":\"http.method\",\"type\":\"string\",\"value\":...</td>\n",
       "      <td>7a24b2de56c17ccc35a2a4b6f737ad71</td>\n",
       "    </tr>\n",
       "    <tr>\n",
       "      <th>1</th>\n",
       "      <td>bj-OQYcBJPdS4Lm3N1lF</td>\n",
       "      <td>jaeger-span-2023-04-02</td>\n",
       "      <td>NaN</td>\n",
       "      <td>_doc</td>\n",
       "      <td>1,877,006</td>\n",
       "      <td>1</td>\n",
       "      <td>[]</td>\n",
       "      <td>/generate_image</td>\n",
       "      <td>microservice1</td>\n",
       "      <td>[]</td>\n",
       "      <td>[{\"refType\":\"CHILD_OF\",\"traceID\":\"984de8f38cff...</td>\n",
       "      <td>e2f60354dd5b271d</td>\n",
       "      <td>1,680,432,048,480,591.75</td>\n",
       "      <td>Apr 2, 2023 @ 10:40:48.480</td>\n",
       "      <td>[{\"key\":\"http.method\",\"type\":\"string\",\"value\":...</td>\n",
       "      <td>984de8f38cff7f8817280a52d9b41245</td>\n",
       "    </tr>\n",
       "    <tr>\n",
       "      <th>2</th>\n",
       "      <td>gz-OQYcBJPdS4Lm3dFk1</td>\n",
       "      <td>jaeger-span-2023-04-02</td>\n",
       "      <td>NaN</td>\n",
       "      <td>_doc</td>\n",
       "      <td>21,175,829</td>\n",
       "      <td>1</td>\n",
       "      <td>[]</td>\n",
       "      <td>/generate_image</td>\n",
       "      <td>microservice1</td>\n",
       "      <td>[]</td>\n",
       "      <td>[{\"refType\":\"CHILD_OF\",\"traceID\":\"9200aca905cf...</td>\n",
       "      <td>ea3aabc688f0bf3c</td>\n",
       "      <td>1,680,432,042,377,615</td>\n",
       "      <td>Apr 2, 2023 @ 10:40:42.377</td>\n",
       "      <td>[{\"key\":\"http.method\",\"type\":\"string\",\"value\":...</td>\n",
       "      <td>9200aca905cf28a6c85d3153096b2bb4</td>\n",
       "    </tr>\n",
       "    <tr>\n",
       "      <th>3</th>\n",
       "      <td>aj-OQYcBJPdS4Lm3N1lF</td>\n",
       "      <td>jaeger-span-2023-04-02</td>\n",
       "      <td>NaN</td>\n",
       "      <td>_doc</td>\n",
       "      <td>10,878,760</td>\n",
       "      <td>1</td>\n",
       "      <td>[]</td>\n",
       "      <td>/generate_image</td>\n",
       "      <td>microservice1</td>\n",
       "      <td>[]</td>\n",
       "      <td>[{\"refType\":\"CHILD_OF\",\"traceID\":\"67a4d9fb450e...</td>\n",
       "      <td>3ed0f519689f626e</td>\n",
       "      <td>1,680,432,038,078,404</td>\n",
       "      <td>Apr 2, 2023 @ 10:40:38.078</td>\n",
       "      <td>[{\"key\":\"http.method\",\"type\":\"string\",\"value\":...</td>\n",
       "      <td>67a4d9fb450ea0fe2f8ad5d349b63a43</td>\n",
       "    </tr>\n",
       "    <tr>\n",
       "      <th>4</th>\n",
       "      <td>bz-OQYcBJPdS4Lm3N1lF</td>\n",
       "      <td>jaeger-span-2023-04-02</td>\n",
       "      <td>NaN</td>\n",
       "      <td>_doc</td>\n",
       "      <td>11,557,708</td>\n",
       "      <td>1</td>\n",
       "      <td>[]</td>\n",
       "      <td>/generate_image</td>\n",
       "      <td>microservice1</td>\n",
       "      <td>[]</td>\n",
       "      <td>[{\"refType\":\"CHILD_OF\",\"traceID\":\"c9c4a08d20ed...</td>\n",
       "      <td>1140104a21969f26</td>\n",
       "      <td>1,680,432,037,041,813</td>\n",
       "      <td>Apr 2, 2023 @ 10:40:37.041</td>\n",
       "      <td>[{\"key\":\"http.method\",\"type\":\"string\",\"value\":...</td>\n",
       "      <td>c9c4a08d20ed2c711585d4773dd52269</td>\n",
       "    </tr>\n",
       "  </tbody>\n",
       "</table>\n",
       "</div>"
      ],
      "text/plain": [
       "                    _id                  _index  _score _type    duration  \\\n",
       "0  jj-OQYcBJPdS4Lm3m1lG  jaeger-span-2023-04-02     NaN  _doc  26,527,144   \n",
       "1  bj-OQYcBJPdS4Lm3N1lF  jaeger-span-2023-04-02     NaN  _doc   1,877,006   \n",
       "2  gz-OQYcBJPdS4Lm3dFk1  jaeger-span-2023-04-02     NaN  _doc  21,175,829   \n",
       "3  aj-OQYcBJPdS4Lm3N1lF  jaeger-span-2023-04-02     NaN  _doc  10,878,760   \n",
       "4  bz-OQYcBJPdS4Lm3N1lF  jaeger-span-2023-04-02     NaN  _doc  11,557,708   \n",
       "\n",
       "   flags logs    operationName process.serviceName process.tags  \\\n",
       "0      1   []  /generate_image       microservice1           []   \n",
       "1      1   []  /generate_image       microservice1           []   \n",
       "2      1   []  /generate_image       microservice1           []   \n",
       "3      1   []  /generate_image       microservice1           []   \n",
       "4      1   []  /generate_image       microservice1           []   \n",
       "\n",
       "                                          references            spanID  \\\n",
       "0  [{\"refType\":\"CHILD_OF\",\"traceID\":\"7a24b2de56c1...  dc3da4088b1fc504   \n",
       "1  [{\"refType\":\"CHILD_OF\",\"traceID\":\"984de8f38cff...  e2f60354dd5b271d   \n",
       "2  [{\"refType\":\"CHILD_OF\",\"traceID\":\"9200aca905cf...  ea3aabc688f0bf3c   \n",
       "3  [{\"refType\":\"CHILD_OF\",\"traceID\":\"67a4d9fb450e...  3ed0f519689f626e   \n",
       "4  [{\"refType\":\"CHILD_OF\",\"traceID\":\"c9c4a08d20ed...  1140104a21969f26   \n",
       "\n",
       "                  startTime             startTimeMillis  \\\n",
       "0     1,680,432,050,219,714  Apr 2, 2023 @ 10:40:50.219   \n",
       "1  1,680,432,048,480,591.75  Apr 2, 2023 @ 10:40:48.480   \n",
       "2     1,680,432,042,377,615  Apr 2, 2023 @ 10:40:42.377   \n",
       "3     1,680,432,038,078,404  Apr 2, 2023 @ 10:40:38.078   \n",
       "4     1,680,432,037,041,813  Apr 2, 2023 @ 10:40:37.041   \n",
       "\n",
       "                                                tags  \\\n",
       "0  [{\"key\":\"http.method\",\"type\":\"string\",\"value\":...   \n",
       "1  [{\"key\":\"http.method\",\"type\":\"string\",\"value\":...   \n",
       "2  [{\"key\":\"http.method\",\"type\":\"string\",\"value\":...   \n",
       "3  [{\"key\":\"http.method\",\"type\":\"string\",\"value\":...   \n",
       "4  [{\"key\":\"http.method\",\"type\":\"string\",\"value\":...   \n",
       "\n",
       "                            traceID  \n",
       "0  7a24b2de56c17ccc35a2a4b6f737ad71  \n",
       "1  984de8f38cff7f8817280a52d9b41245  \n",
       "2  9200aca905cf28a6c85d3153096b2bb4  \n",
       "3  67a4d9fb450ea0fe2f8ad5d349b63a43  \n",
       "4  c9c4a08d20ed2c711585d4773dd52269  "
      ]
     },
     "execution_count": 76,
     "metadata": {},
     "output_type": "execute_result"
    }
   ],
   "source": [
    "data.head()"
   ]
  },
  {
   "cell_type": "markdown",
   "metadata": {},
   "source": [
    "Теперь необходимо преобразовать данные в нужный формат."
   ]
  },
  {
   "cell_type": "markdown",
   "metadata": {},
   "source": [
    "Сначала необходимо извлечь из столбца ***tags*** данные о запросе - эндпоинт и параметры запроса "
   ]
  },
  {
   "cell_type": "code",
   "execution_count": 77,
   "metadata": {},
   "outputs": [],
   "source": [
    "import re\n",
    "def get_endpoint_data(data):\n",
    "    pattern = pattern = r'\"key\":\"http.target\",\"type\":\"string\",\"value\":\"([^\"]+)\"'\n",
    "    match = re.search(pattern, data)\n",
    "    if match:\n",
    "        url = match.group(1)\n",
    "        return match.group(1)\n",
    "    else:\n",
    "        print('Value not found.')\n",
    "    "
   ]
  },
  {
   "cell_type": "code",
   "execution_count": 78,
   "metadata": {},
   "outputs": [],
   "source": [
    "data['endpoint'] = data['tags'].apply(get_endpoint_data)"
   ]
  },
  {
   "cell_type": "markdown",
   "metadata": {},
   "source": [
    "Удаляем ненужные столбцы"
   ]
  },
  {
   "cell_type": "code",
   "execution_count": 79,
   "metadata": {},
   "outputs": [
    {
     "data": {
      "text/html": [
       "<div>\n",
       "<style scoped>\n",
       "    .dataframe tbody tr th:only-of-type {\n",
       "        vertical-align: middle;\n",
       "    }\n",
       "\n",
       "    .dataframe tbody tr th {\n",
       "        vertical-align: top;\n",
       "    }\n",
       "\n",
       "    .dataframe thead th {\n",
       "        text-align: right;\n",
       "    }\n",
       "</style>\n",
       "<table border=\"1\" class=\"dataframe\">\n",
       "  <thead>\n",
       "    <tr style=\"text-align: right;\">\n",
       "      <th></th>\n",
       "      <th>duration</th>\n",
       "      <th>startTime</th>\n",
       "      <th>startTimeMillis</th>\n",
       "      <th>endpoint</th>\n",
       "    </tr>\n",
       "  </thead>\n",
       "  <tbody>\n",
       "    <tr>\n",
       "      <th>0</th>\n",
       "      <td>26,527,144</td>\n",
       "      <td>1,680,432,050,219,714</td>\n",
       "      <td>Apr 2, 2023 @ 10:40:50.219</td>\n",
       "      <td>/generate_image?x=113&amp;y=124&amp;additional=three</td>\n",
       "    </tr>\n",
       "    <tr>\n",
       "      <th>1</th>\n",
       "      <td>1,877,006</td>\n",
       "      <td>1,680,432,048,480,591.75</td>\n",
       "      <td>Apr 2, 2023 @ 10:40:48.480</td>\n",
       "      <td>/generate_image?x=151&amp;y=53</td>\n",
       "    </tr>\n",
       "    <tr>\n",
       "      <th>2</th>\n",
       "      <td>21,175,829</td>\n",
       "      <td>1,680,432,042,377,615</td>\n",
       "      <td>Apr 2, 2023 @ 10:40:42.377</td>\n",
       "      <td>/generate_image?x=144&amp;y=147&amp;additional=two</td>\n",
       "    </tr>\n",
       "    <tr>\n",
       "      <th>3</th>\n",
       "      <td>10,878,760</td>\n",
       "      <td>1,680,432,038,078,404</td>\n",
       "      <td>Apr 2, 2023 @ 10:40:38.078</td>\n",
       "      <td>/generate_image?x=261&amp;y=162</td>\n",
       "    </tr>\n",
       "    <tr>\n",
       "      <th>4</th>\n",
       "      <td>11,557,708</td>\n",
       "      <td>1,680,432,037,041,813</td>\n",
       "      <td>Apr 2, 2023 @ 10:40:37.041</td>\n",
       "      <td>/generate_image?x=272&amp;y=280</td>\n",
       "    </tr>\n",
       "  </tbody>\n",
       "</table>\n",
       "</div>"
      ],
      "text/plain": [
       "     duration                 startTime             startTimeMillis  \\\n",
       "0  26,527,144     1,680,432,050,219,714  Apr 2, 2023 @ 10:40:50.219   \n",
       "1   1,877,006  1,680,432,048,480,591.75  Apr 2, 2023 @ 10:40:48.480   \n",
       "2  21,175,829     1,680,432,042,377,615  Apr 2, 2023 @ 10:40:42.377   \n",
       "3  10,878,760     1,680,432,038,078,404  Apr 2, 2023 @ 10:40:38.078   \n",
       "4  11,557,708     1,680,432,037,041,813  Apr 2, 2023 @ 10:40:37.041   \n",
       "\n",
       "                                       endpoint  \n",
       "0  /generate_image?x=113&y=124&additional=three  \n",
       "1                    /generate_image?x=151&y=53  \n",
       "2    /generate_image?x=144&y=147&additional=two  \n",
       "3                   /generate_image?x=261&y=162  \n",
       "4                   /generate_image?x=272&y=280  "
      ]
     },
     "execution_count": 79,
     "metadata": {},
     "output_type": "execute_result"
    }
   ],
   "source": [
    "data.drop(['_id','_index','_score','_type','flags','logs','operationName', 'process.tags','process.serviceName','spanID', 'tags', 'traceID', 'references'], axis=1, inplace=True)\n",
    "data.head()"
   ]
  },
  {
   "cell_type": "markdown",
   "metadata": {},
   "source": [
    "Теперь необходимо извлечь параметры из столбца ***endpoint*** нужно извлечь параметры и добавить в датасет столбцы с их названием и присвоить им их значения. Если значение параметра — строка, применяем *one hot encoding*"
   ]
  },
  {
   "cell_type": "code",
   "execution_count": 80,
   "metadata": {},
   "outputs": [],
   "source": [
    "# Регулярное выражение для извлечения параметров запроса и их значений\n",
    "pattern = r'\\?([^#]*)'\n",
    "\n",
    "# Извлечение пути запроса и параметров\n",
    "params = data['endpoint'].apply(lambda x: re.search(pattern, x).group(1))\n",
    "\n",
    "# Создание списка параметров запроса\n",
    "param_names = []\n",
    "for param in params:\n",
    "    param_list = param.split('&')\n",
    "    for p in param_list:\n",
    "        name, value = p.split('=')\n",
    "        if name not in param_names:\n",
    "            param_names.append(name)"
   ]
  },
  {
   "cell_type": "code",
   "execution_count": 81,
   "metadata": {},
   "outputs": [
    {
     "data": {
      "text/plain": [
       "['x', 'y', 'additional']"
      ]
     },
     "execution_count": 81,
     "metadata": {},
     "output_type": "execute_result"
    }
   ],
   "source": [
    "# Извлеченные названия параметров\n",
    "param_names"
   ]
  },
  {
   "cell_type": "code",
   "execution_count": 82,
   "metadata": {},
   "outputs": [],
   "source": [
    "# Создание нового датафрейма для параметров запроса\n",
    "df = None\n",
    "params_df=None\n",
    "params_df = pd.DataFrame(columns=param_names)\n",
    "for i, param in enumerate(params):\n",
    "    param_list = param.split('&')\n",
    "    param_values = {}\n",
    "    for p in param_list:\n",
    "        name, value = p.split('=')\n",
    "        #param_values[name] = value\n",
    "        try:\n",
    "            param_values[name] = int(value)\n",
    "        except:\n",
    "            if isinstance(value, str):\n",
    "                param_values[name+'_'+value] = 1\n",
    "    df = pd.concat([df, pd.DataFrame.from_records([param_values])])"
   ]
  },
  {
   "cell_type": "code",
   "execution_count": 83,
   "metadata": {},
   "outputs": [
    {
     "data": {
      "text/html": [
       "<div>\n",
       "<style scoped>\n",
       "    .dataframe tbody tr th:only-of-type {\n",
       "        vertical-align: middle;\n",
       "    }\n",
       "\n",
       "    .dataframe tbody tr th {\n",
       "        vertical-align: top;\n",
       "    }\n",
       "\n",
       "    .dataframe thead th {\n",
       "        text-align: right;\n",
       "    }\n",
       "</style>\n",
       "<table border=\"1\" class=\"dataframe\">\n",
       "  <thead>\n",
       "    <tr style=\"text-align: right;\">\n",
       "      <th></th>\n",
       "      <th>x</th>\n",
       "      <th>y</th>\n",
       "      <th>additional_three</th>\n",
       "      <th>additional_two</th>\n",
       "      <th>additional_one</th>\n",
       "    </tr>\n",
       "  </thead>\n",
       "  <tbody>\n",
       "    <tr>\n",
       "      <th>0</th>\n",
       "      <td>113</td>\n",
       "      <td>124</td>\n",
       "      <td>1.0</td>\n",
       "      <td>0.0</td>\n",
       "      <td>0.0</td>\n",
       "    </tr>\n",
       "    <tr>\n",
       "      <th>1</th>\n",
       "      <td>151</td>\n",
       "      <td>53</td>\n",
       "      <td>0.0</td>\n",
       "      <td>0.0</td>\n",
       "      <td>0.0</td>\n",
       "    </tr>\n",
       "    <tr>\n",
       "      <th>2</th>\n",
       "      <td>144</td>\n",
       "      <td>147</td>\n",
       "      <td>0.0</td>\n",
       "      <td>1.0</td>\n",
       "      <td>0.0</td>\n",
       "    </tr>\n",
       "    <tr>\n",
       "      <th>3</th>\n",
       "      <td>261</td>\n",
       "      <td>162</td>\n",
       "      <td>0.0</td>\n",
       "      <td>0.0</td>\n",
       "      <td>0.0</td>\n",
       "    </tr>\n",
       "    <tr>\n",
       "      <th>4</th>\n",
       "      <td>272</td>\n",
       "      <td>280</td>\n",
       "      <td>0.0</td>\n",
       "      <td>0.0</td>\n",
       "      <td>0.0</td>\n",
       "    </tr>\n",
       "  </tbody>\n",
       "</table>\n",
       "</div>"
      ],
      "text/plain": [
       "     x    y  additional_three  additional_two  additional_one\n",
       "0  113  124               1.0             0.0             0.0\n",
       "1  151   53               0.0             0.0             0.0\n",
       "2  144  147               0.0             1.0             0.0\n",
       "3  261  162               0.0             0.0             0.0\n",
       "4  272  280               0.0             0.0             0.0"
      ]
     },
     "execution_count": 83,
     "metadata": {},
     "output_type": "execute_result"
    }
   ],
   "source": [
    "df = df.reset_index(drop=True)\n",
    "df.fillna(0, inplace=True)\n",
    "df.head()"
   ]
  },
  {
   "cell_type": "code",
   "execution_count": 84,
   "metadata": {},
   "outputs": [
    {
     "data": {
      "text/html": [
       "<div>\n",
       "<style scoped>\n",
       "    .dataframe tbody tr th:only-of-type {\n",
       "        vertical-align: middle;\n",
       "    }\n",
       "\n",
       "    .dataframe tbody tr th {\n",
       "        vertical-align: top;\n",
       "    }\n",
       "\n",
       "    .dataframe thead th {\n",
       "        text-align: right;\n",
       "    }\n",
       "</style>\n",
       "<table border=\"1\" class=\"dataframe\">\n",
       "  <thead>\n",
       "    <tr style=\"text-align: right;\">\n",
       "      <th></th>\n",
       "      <th>duration</th>\n",
       "      <th>startTime</th>\n",
       "      <th>startTimeMillis</th>\n",
       "      <th>endpoint</th>\n",
       "      <th>x</th>\n",
       "      <th>y</th>\n",
       "      <th>additional_three</th>\n",
       "      <th>additional_two</th>\n",
       "      <th>additional_one</th>\n",
       "    </tr>\n",
       "  </thead>\n",
       "  <tbody>\n",
       "    <tr>\n",
       "      <th>0</th>\n",
       "      <td>26,527,144</td>\n",
       "      <td>1,680,432,050,219,714</td>\n",
       "      <td>Apr 2, 2023 @ 10:40:50.219</td>\n",
       "      <td>/generate_image?x=113&amp;y=124&amp;additional=three</td>\n",
       "      <td>113</td>\n",
       "      <td>124</td>\n",
       "      <td>1.0</td>\n",
       "      <td>0.0</td>\n",
       "      <td>0.0</td>\n",
       "    </tr>\n",
       "    <tr>\n",
       "      <th>1</th>\n",
       "      <td>1,877,006</td>\n",
       "      <td>1,680,432,048,480,591.75</td>\n",
       "      <td>Apr 2, 2023 @ 10:40:48.480</td>\n",
       "      <td>/generate_image?x=151&amp;y=53</td>\n",
       "      <td>151</td>\n",
       "      <td>53</td>\n",
       "      <td>0.0</td>\n",
       "      <td>0.0</td>\n",
       "      <td>0.0</td>\n",
       "    </tr>\n",
       "    <tr>\n",
       "      <th>2</th>\n",
       "      <td>21,175,829</td>\n",
       "      <td>1,680,432,042,377,615</td>\n",
       "      <td>Apr 2, 2023 @ 10:40:42.377</td>\n",
       "      <td>/generate_image?x=144&amp;y=147&amp;additional=two</td>\n",
       "      <td>144</td>\n",
       "      <td>147</td>\n",
       "      <td>0.0</td>\n",
       "      <td>1.0</td>\n",
       "      <td>0.0</td>\n",
       "    </tr>\n",
       "    <tr>\n",
       "      <th>3</th>\n",
       "      <td>10,878,760</td>\n",
       "      <td>1,680,432,038,078,404</td>\n",
       "      <td>Apr 2, 2023 @ 10:40:38.078</td>\n",
       "      <td>/generate_image?x=261&amp;y=162</td>\n",
       "      <td>261</td>\n",
       "      <td>162</td>\n",
       "      <td>0.0</td>\n",
       "      <td>0.0</td>\n",
       "      <td>0.0</td>\n",
       "    </tr>\n",
       "    <tr>\n",
       "      <th>4</th>\n",
       "      <td>11,557,708</td>\n",
       "      <td>1,680,432,037,041,813</td>\n",
       "      <td>Apr 2, 2023 @ 10:40:37.041</td>\n",
       "      <td>/generate_image?x=272&amp;y=280</td>\n",
       "      <td>272</td>\n",
       "      <td>280</td>\n",
       "      <td>0.0</td>\n",
       "      <td>0.0</td>\n",
       "      <td>0.0</td>\n",
       "    </tr>\n",
       "  </tbody>\n",
       "</table>\n",
       "</div>"
      ],
      "text/plain": [
       "     duration                 startTime             startTimeMillis  \\\n",
       "0  26,527,144     1,680,432,050,219,714  Apr 2, 2023 @ 10:40:50.219   \n",
       "1   1,877,006  1,680,432,048,480,591.75  Apr 2, 2023 @ 10:40:48.480   \n",
       "2  21,175,829     1,680,432,042,377,615  Apr 2, 2023 @ 10:40:42.377   \n",
       "3  10,878,760     1,680,432,038,078,404  Apr 2, 2023 @ 10:40:38.078   \n",
       "4  11,557,708     1,680,432,037,041,813  Apr 2, 2023 @ 10:40:37.041   \n",
       "\n",
       "                                       endpoint    x    y  additional_three  \\\n",
       "0  /generate_image?x=113&y=124&additional=three  113  124               1.0   \n",
       "1                    /generate_image?x=151&y=53  151   53               0.0   \n",
       "2    /generate_image?x=144&y=147&additional=two  144  147               0.0   \n",
       "3                   /generate_image?x=261&y=162  261  162               0.0   \n",
       "4                   /generate_image?x=272&y=280  272  280               0.0   \n",
       "\n",
       "   additional_two  additional_one  \n",
       "0             0.0             0.0  \n",
       "1             0.0             0.0  \n",
       "2             1.0             0.0  \n",
       "3             0.0             0.0  \n",
       "4             0.0             0.0  "
      ]
     },
     "execution_count": 84,
     "metadata": {},
     "output_type": "execute_result"
    }
   ],
   "source": [
    "# Объединяем датафреймы\n",
    "data = pd.merge(data, df, left_index=True, right_index=True)\n",
    "data.head()"
   ]
  },
  {
   "cell_type": "markdown",
   "metadata": {},
   "source": [
    "Теперь преобразуем значения столбцов со временем и удалим лишние столбцы"
   ]
  },
  {
   "cell_type": "code",
   "execution_count": 85,
   "metadata": {},
   "outputs": [],
   "source": [
    "# Преобразуем значение из логов в количество миллисекунд\n",
    "def transform_time(s):\n",
    "    items = s.split(',')\n",
    "    \n",
    "    # Возвращаем без миллионнных долей секунды\n",
    "    return ''.join(items[:-1])\n",
    "\n",
    "data['starttime_m'] = data['startTime'].apply(transform_time)\n",
    "data['duration_m'] = data['duration'].apply(transform_time)"
   ]
  },
  {
   "cell_type": "code",
   "execution_count": null,
   "metadata": {},
   "outputs": [],
   "source": []
  },
  {
   "cell_type": "code",
   "execution_count": 86,
   "metadata": {},
   "outputs": [
    {
     "data": {
      "text/html": [
       "<div>\n",
       "<style scoped>\n",
       "    .dataframe tbody tr th:only-of-type {\n",
       "        vertical-align: middle;\n",
       "    }\n",
       "\n",
       "    .dataframe tbody tr th {\n",
       "        vertical-align: top;\n",
       "    }\n",
       "\n",
       "    .dataframe thead th {\n",
       "        text-align: right;\n",
       "    }\n",
       "</style>\n",
       "<table border=\"1\" class=\"dataframe\">\n",
       "  <thead>\n",
       "    <tr style=\"text-align: right;\">\n",
       "      <th></th>\n",
       "      <th>duration</th>\n",
       "      <th>startTime</th>\n",
       "      <th>startTimeMillis</th>\n",
       "      <th>endpoint</th>\n",
       "      <th>x</th>\n",
       "      <th>y</th>\n",
       "      <th>additional_three</th>\n",
       "      <th>additional_two</th>\n",
       "      <th>additional_one</th>\n",
       "      <th>starttime_m</th>\n",
       "      <th>duration_m</th>\n",
       "    </tr>\n",
       "  </thead>\n",
       "  <tbody>\n",
       "    <tr>\n",
       "      <th>0</th>\n",
       "      <td>26,527,144</td>\n",
       "      <td>1,680,432,050,219,714</td>\n",
       "      <td>Apr 2, 2023 @ 10:40:50.219</td>\n",
       "      <td>/generate_image?x=113&amp;y=124&amp;additional=three</td>\n",
       "      <td>113</td>\n",
       "      <td>124</td>\n",
       "      <td>1.0</td>\n",
       "      <td>0.0</td>\n",
       "      <td>0.0</td>\n",
       "      <td>1680432050219</td>\n",
       "      <td>26527</td>\n",
       "    </tr>\n",
       "    <tr>\n",
       "      <th>1</th>\n",
       "      <td>1,877,006</td>\n",
       "      <td>1,680,432,048,480,591.75</td>\n",
       "      <td>Apr 2, 2023 @ 10:40:48.480</td>\n",
       "      <td>/generate_image?x=151&amp;y=53</td>\n",
       "      <td>151</td>\n",
       "      <td>53</td>\n",
       "      <td>0.0</td>\n",
       "      <td>0.0</td>\n",
       "      <td>0.0</td>\n",
       "      <td>1680432048480</td>\n",
       "      <td>1877</td>\n",
       "    </tr>\n",
       "    <tr>\n",
       "      <th>2</th>\n",
       "      <td>21,175,829</td>\n",
       "      <td>1,680,432,042,377,615</td>\n",
       "      <td>Apr 2, 2023 @ 10:40:42.377</td>\n",
       "      <td>/generate_image?x=144&amp;y=147&amp;additional=two</td>\n",
       "      <td>144</td>\n",
       "      <td>147</td>\n",
       "      <td>0.0</td>\n",
       "      <td>1.0</td>\n",
       "      <td>0.0</td>\n",
       "      <td>1680432042377</td>\n",
       "      <td>21175</td>\n",
       "    </tr>\n",
       "    <tr>\n",
       "      <th>3</th>\n",
       "      <td>10,878,760</td>\n",
       "      <td>1,680,432,038,078,404</td>\n",
       "      <td>Apr 2, 2023 @ 10:40:38.078</td>\n",
       "      <td>/generate_image?x=261&amp;y=162</td>\n",
       "      <td>261</td>\n",
       "      <td>162</td>\n",
       "      <td>0.0</td>\n",
       "      <td>0.0</td>\n",
       "      <td>0.0</td>\n",
       "      <td>1680432038078</td>\n",
       "      <td>10878</td>\n",
       "    </tr>\n",
       "    <tr>\n",
       "      <th>4</th>\n",
       "      <td>11,557,708</td>\n",
       "      <td>1,680,432,037,041,813</td>\n",
       "      <td>Apr 2, 2023 @ 10:40:37.041</td>\n",
       "      <td>/generate_image?x=272&amp;y=280</td>\n",
       "      <td>272</td>\n",
       "      <td>280</td>\n",
       "      <td>0.0</td>\n",
       "      <td>0.0</td>\n",
       "      <td>0.0</td>\n",
       "      <td>1680432037041</td>\n",
       "      <td>11557</td>\n",
       "    </tr>\n",
       "  </tbody>\n",
       "</table>\n",
       "</div>"
      ],
      "text/plain": [
       "     duration                 startTime             startTimeMillis  \\\n",
       "0  26,527,144     1,680,432,050,219,714  Apr 2, 2023 @ 10:40:50.219   \n",
       "1   1,877,006  1,680,432,048,480,591.75  Apr 2, 2023 @ 10:40:48.480   \n",
       "2  21,175,829     1,680,432,042,377,615  Apr 2, 2023 @ 10:40:42.377   \n",
       "3  10,878,760     1,680,432,038,078,404  Apr 2, 2023 @ 10:40:38.078   \n",
       "4  11,557,708     1,680,432,037,041,813  Apr 2, 2023 @ 10:40:37.041   \n",
       "\n",
       "                                       endpoint    x    y  additional_three  \\\n",
       "0  /generate_image?x=113&y=124&additional=three  113  124               1.0   \n",
       "1                    /generate_image?x=151&y=53  151   53               0.0   \n",
       "2    /generate_image?x=144&y=147&additional=two  144  147               0.0   \n",
       "3                   /generate_image?x=261&y=162  261  162               0.0   \n",
       "4                   /generate_image?x=272&y=280  272  280               0.0   \n",
       "\n",
       "   additional_two  additional_one    starttime_m duration_m  \n",
       "0             0.0             0.0  1680432050219      26527  \n",
       "1             0.0             0.0  1680432048480       1877  \n",
       "2             1.0             0.0  1680432042377      21175  \n",
       "3             0.0             0.0  1680432038078      10878  \n",
       "4             0.0             0.0  1680432037041      11557  "
      ]
     },
     "execution_count": 86,
     "metadata": {},
     "output_type": "execute_result"
    }
   ],
   "source": [
    "data.head()"
   ]
  },
  {
   "cell_type": "code",
   "execution_count": 89,
   "metadata": {},
   "outputs": [
    {
     "name": "stdout",
     "output_type": "stream",
     "text": [
      "duration                      object\n",
      "startTime                     object\n",
      "startTimeMillis               object\n",
      "endpoint                      object\n",
      "x                              int64\n",
      "y                              int64\n",
      "additional_three             float64\n",
      "additional_two               float64\n",
      "additional_one               float64\n",
      "starttime_m                    int64\n",
      "duration_m                     int64\n",
      "start                 datetime64[ns]\n",
      "end                   datetime64[ns]\n",
      "parallel_processes             int64\n",
      "dtype: object\n"
     ]
    }
   ],
   "source": [
    "import numpy as np\n",
    "data['duration_m'] = data['duration_m'].astype(np.int64)\n",
    "data['starttime_m'] = data['starttime_m'].astype(np.int64)\n",
    "print(data.dtypes)"
   ]
  },
  {
   "cell_type": "code",
   "execution_count": 90,
   "metadata": {},
   "outputs": [
    {
     "ename": "OutOfBoundsDatetime",
     "evalue": "cannot convert input with unit 'ms'",
     "output_type": "error",
     "traceback": [
      "\u001b[1;31m---------------------------------------------------------------------------\u001b[0m",
      "\u001b[1;31mOutOfBoundsDatetime\u001b[0m                       Traceback (most recent call last)",
      "\u001b[1;32m~\\AppData\\Local\\Temp\\ipykernel_2808\\2283082288.py\u001b[0m in \u001b[0;36m<module>\u001b[1;34m\u001b[0m\n\u001b[0;32m      1\u001b[0m \u001b[1;31m#  Преобразование столбца starttime_m в формат datetime\u001b[0m\u001b[1;33m\u001b[0m\u001b[1;33m\u001b[0m\u001b[0m\n\u001b[1;32m----> 2\u001b[1;33m \u001b[0mdata\u001b[0m\u001b[1;33m[\u001b[0m\u001b[1;34m'starttime_m'\u001b[0m\u001b[1;33m]\u001b[0m \u001b[1;33m=\u001b[0m \u001b[0mpd\u001b[0m\u001b[1;33m.\u001b[0m\u001b[0mto_datetime\u001b[0m\u001b[1;33m(\u001b[0m\u001b[0mdata\u001b[0m\u001b[1;33m[\u001b[0m\u001b[1;34m'starttime_m'\u001b[0m\u001b[1;33m]\u001b[0m\u001b[1;33m,\u001b[0m \u001b[0munit\u001b[0m\u001b[1;33m=\u001b[0m\u001b[1;34m'ms'\u001b[0m\u001b[1;33m)\u001b[0m\u001b[1;33m\u001b[0m\u001b[1;33m\u001b[0m\u001b[0m\n\u001b[0m\u001b[0;32m      3\u001b[0m \u001b[1;33m\u001b[0m\u001b[0m\n\u001b[0;32m      4\u001b[0m \u001b[1;31m# Сортировка датафрейма по starttime_m\u001b[0m\u001b[1;33m\u001b[0m\u001b[1;33m\u001b[0m\u001b[0m\n\u001b[0;32m      5\u001b[0m \u001b[0mdata\u001b[0m \u001b[1;33m=\u001b[0m \u001b[0mdata\u001b[0m\u001b[1;33m.\u001b[0m\u001b[0msort_values\u001b[0m\u001b[1;33m(\u001b[0m\u001b[0mby\u001b[0m\u001b[1;33m=\u001b[0m\u001b[1;33m[\u001b[0m\u001b[1;34m'starttime_m'\u001b[0m\u001b[1;33m]\u001b[0m\u001b[1;33m)\u001b[0m\u001b[1;33m\u001b[0m\u001b[1;33m\u001b[0m\u001b[0m\n",
      "\u001b[1;32m~\\anaconda3\\lib\\site-packages\\pandas\\core\\tools\\datetimes.py\u001b[0m in \u001b[0;36mto_datetime\u001b[1;34m(arg, errors, dayfirst, yearfirst, utc, format, exact, unit, infer_datetime_format, origin, cache)\u001b[0m\n\u001b[0;32m   1049\u001b[0m             \u001b[0mresult\u001b[0m \u001b[1;33m=\u001b[0m \u001b[0marg\u001b[0m\u001b[1;33m.\u001b[0m\u001b[0mmap\u001b[0m\u001b[1;33m(\u001b[0m\u001b[0mcache_array\u001b[0m\u001b[1;33m)\u001b[0m\u001b[1;33m\u001b[0m\u001b[1;33m\u001b[0m\u001b[0m\n\u001b[0;32m   1050\u001b[0m         \u001b[1;32melse\u001b[0m\u001b[1;33m:\u001b[0m\u001b[1;33m\u001b[0m\u001b[1;33m\u001b[0m\u001b[0m\n\u001b[1;32m-> 1051\u001b[1;33m             \u001b[0mvalues\u001b[0m \u001b[1;33m=\u001b[0m \u001b[0mconvert_listlike\u001b[0m\u001b[1;33m(\u001b[0m\u001b[0marg\u001b[0m\u001b[1;33m.\u001b[0m\u001b[0m_values\u001b[0m\u001b[1;33m,\u001b[0m \u001b[0mformat\u001b[0m\u001b[1;33m)\u001b[0m\u001b[1;33m\u001b[0m\u001b[1;33m\u001b[0m\u001b[0m\n\u001b[0m\u001b[0;32m   1052\u001b[0m             \u001b[0mresult\u001b[0m \u001b[1;33m=\u001b[0m \u001b[0marg\u001b[0m\u001b[1;33m.\u001b[0m\u001b[0m_constructor\u001b[0m\u001b[1;33m(\u001b[0m\u001b[0mvalues\u001b[0m\u001b[1;33m,\u001b[0m \u001b[0mindex\u001b[0m\u001b[1;33m=\u001b[0m\u001b[0marg\u001b[0m\u001b[1;33m.\u001b[0m\u001b[0mindex\u001b[0m\u001b[1;33m,\u001b[0m \u001b[0mname\u001b[0m\u001b[1;33m=\u001b[0m\u001b[0marg\u001b[0m\u001b[1;33m.\u001b[0m\u001b[0mname\u001b[0m\u001b[1;33m)\u001b[0m\u001b[1;33m\u001b[0m\u001b[1;33m\u001b[0m\u001b[0m\n\u001b[0;32m   1053\u001b[0m     \u001b[1;32melif\u001b[0m \u001b[0misinstance\u001b[0m\u001b[1;33m(\u001b[0m\u001b[0marg\u001b[0m\u001b[1;33m,\u001b[0m \u001b[1;33m(\u001b[0m\u001b[0mABCDataFrame\u001b[0m\u001b[1;33m,\u001b[0m \u001b[0mabc\u001b[0m\u001b[1;33m.\u001b[0m\u001b[0mMutableMapping\u001b[0m\u001b[1;33m)\u001b[0m\u001b[1;33m)\u001b[0m\u001b[1;33m:\u001b[0m\u001b[1;33m\u001b[0m\u001b[1;33m\u001b[0m\u001b[0m\n",
      "\u001b[1;32m~\\anaconda3\\lib\\site-packages\\pandas\\core\\tools\\datetimes.py\u001b[0m in \u001b[0;36m_convert_listlike_datetimes\u001b[1;34m(arg, format, name, tz, unit, errors, infer_datetime_format, dayfirst, yearfirst, exact)\u001b[0m\n\u001b[0;32m    355\u001b[0m         \u001b[1;32mif\u001b[0m \u001b[0mformat\u001b[0m \u001b[1;32mis\u001b[0m \u001b[1;32mnot\u001b[0m \u001b[1;32mNone\u001b[0m\u001b[1;33m:\u001b[0m\u001b[1;33m\u001b[0m\u001b[1;33m\u001b[0m\u001b[0m\n\u001b[0;32m    356\u001b[0m             \u001b[1;32mraise\u001b[0m \u001b[0mValueError\u001b[0m\u001b[1;33m(\u001b[0m\u001b[1;34m\"cannot specify both format and unit\"\u001b[0m\u001b[1;33m)\u001b[0m\u001b[1;33m\u001b[0m\u001b[1;33m\u001b[0m\u001b[0m\n\u001b[1;32m--> 357\u001b[1;33m         \u001b[1;32mreturn\u001b[0m \u001b[0m_to_datetime_with_unit\u001b[0m\u001b[1;33m(\u001b[0m\u001b[0marg\u001b[0m\u001b[1;33m,\u001b[0m \u001b[0munit\u001b[0m\u001b[1;33m,\u001b[0m \u001b[0mname\u001b[0m\u001b[1;33m,\u001b[0m \u001b[0mtz\u001b[0m\u001b[1;33m,\u001b[0m \u001b[0merrors\u001b[0m\u001b[1;33m)\u001b[0m\u001b[1;33m\u001b[0m\u001b[1;33m\u001b[0m\u001b[0m\n\u001b[0m\u001b[0;32m    358\u001b[0m     \u001b[1;32melif\u001b[0m \u001b[0mgetattr\u001b[0m\u001b[1;33m(\u001b[0m\u001b[0marg\u001b[0m\u001b[1;33m,\u001b[0m \u001b[1;34m\"ndim\"\u001b[0m\u001b[1;33m,\u001b[0m \u001b[1;36m1\u001b[0m\u001b[1;33m)\u001b[0m \u001b[1;33m>\u001b[0m \u001b[1;36m1\u001b[0m\u001b[1;33m:\u001b[0m\u001b[1;33m\u001b[0m\u001b[1;33m\u001b[0m\u001b[0m\n\u001b[0;32m    359\u001b[0m         raise TypeError(\n",
      "\u001b[1;32m~\\anaconda3\\lib\\site-packages\\pandas\\core\\tools\\datetimes.py\u001b[0m in \u001b[0;36m_to_datetime_with_unit\u001b[1;34m(arg, unit, name, tz, errors)\u001b[0m\n\u001b[0;32m    528\u001b[0m     \u001b[1;32melse\u001b[0m\u001b[1;33m:\u001b[0m\u001b[1;33m\u001b[0m\u001b[1;33m\u001b[0m\u001b[0m\n\u001b[0;32m    529\u001b[0m         \u001b[0marg\u001b[0m \u001b[1;33m=\u001b[0m \u001b[0mnp\u001b[0m\u001b[1;33m.\u001b[0m\u001b[0masarray\u001b[0m\u001b[1;33m(\u001b[0m\u001b[0marg\u001b[0m\u001b[1;33m)\u001b[0m\u001b[1;33m\u001b[0m\u001b[1;33m\u001b[0m\u001b[0m\n\u001b[1;32m--> 530\u001b[1;33m         \u001b[0marr\u001b[0m\u001b[1;33m,\u001b[0m \u001b[0mtz_parsed\u001b[0m \u001b[1;33m=\u001b[0m \u001b[0mtslib\u001b[0m\u001b[1;33m.\u001b[0m\u001b[0marray_with_unit_to_datetime\u001b[0m\u001b[1;33m(\u001b[0m\u001b[0marg\u001b[0m\u001b[1;33m,\u001b[0m \u001b[0munit\u001b[0m\u001b[1;33m,\u001b[0m \u001b[0merrors\u001b[0m\u001b[1;33m=\u001b[0m\u001b[0merrors\u001b[0m\u001b[1;33m)\u001b[0m\u001b[1;33m\u001b[0m\u001b[1;33m\u001b[0m\u001b[0m\n\u001b[0m\u001b[0;32m    531\u001b[0m \u001b[1;33m\u001b[0m\u001b[0m\n\u001b[0;32m    532\u001b[0m     \u001b[1;32mif\u001b[0m \u001b[0merrors\u001b[0m \u001b[1;33m==\u001b[0m \u001b[1;34m\"ignore\"\u001b[0m\u001b[1;33m:\u001b[0m\u001b[1;33m\u001b[0m\u001b[1;33m\u001b[0m\u001b[0m\n",
      "\u001b[1;32m~\\anaconda3\\lib\\site-packages\\pandas\\_libs\\tslib.pyx\u001b[0m in \u001b[0;36mpandas._libs.tslib.array_with_unit_to_datetime\u001b[1;34m()\u001b[0m\n",
      "\u001b[1;31mOutOfBoundsDatetime\u001b[0m: cannot convert input with unit 'ms'"
     ]
    }
   ],
   "source": [
    "#  Преобразование столбца starttime_m в формат datetime\n",
    "data['starttime_m'] = pd.to_datetime(data['starttime_m'], unit='ms')\n",
    "\n",
    "# Сортировка датафрейма по starttime_m\n",
    "data = data.sort_values(by=['starttime_m'])\n",
    "\n",
    "# Создание столбцов start и end\n",
    "data['start'] = data['starttime_m']\n",
    "data['end'] = data['start'] + pd.to_timedelta(data['duration_m'], unit='ms')\n",
    "\n",
    "# Создание столбца parallel_processes\n",
    "parallel_processes = []\n",
    "for i in range(len(data)):\n",
    "    start = data.iloc[i]['start']\n",
    "    end = data.iloc[i]['end']\n",
    "    parallel = len(data[(data['start'] <= start) & (data['end'] > start) | (data['start'] < end) & (data['end'] >= end)])\n",
    "    parallel_processes.append(parallel)\n",
    "data['parallel_processes'] = parallel_processes"
   ]
  },
  {
   "cell_type": "markdown",
   "metadata": {},
   "source": [
    "Удаляем лишние столбцы и получаем готовый датасет"
   ]
  },
  {
   "cell_type": "code",
   "execution_count": 91,
   "metadata": {},
   "outputs": [
    {
     "data": {
      "text/html": [
       "<div>\n",
       "<style scoped>\n",
       "    .dataframe tbody tr th:only-of-type {\n",
       "        vertical-align: middle;\n",
       "    }\n",
       "\n",
       "    .dataframe tbody tr th {\n",
       "        vertical-align: top;\n",
       "    }\n",
       "\n",
       "    .dataframe thead th {\n",
       "        text-align: right;\n",
       "    }\n",
       "</style>\n",
       "<table border=\"1\" class=\"dataframe\">\n",
       "  <thead>\n",
       "    <tr style=\"text-align: right;\">\n",
       "      <th></th>\n",
       "      <th>x</th>\n",
       "      <th>y</th>\n",
       "      <th>additional_three</th>\n",
       "      <th>additional_two</th>\n",
       "      <th>additional_one</th>\n",
       "      <th>duration_m</th>\n",
       "      <th>parallel_processes</th>\n",
       "    </tr>\n",
       "  </thead>\n",
       "  <tbody>\n",
       "    <tr>\n",
       "      <th>1130</th>\n",
       "      <td>200</td>\n",
       "      <td>200</td>\n",
       "      <td>0.0</td>\n",
       "      <td>0.0</td>\n",
       "      <td>0.0</td>\n",
       "      <td>3373</td>\n",
       "      <td>1</td>\n",
       "    </tr>\n",
       "    <tr>\n",
       "      <th>1129</th>\n",
       "      <td>150</td>\n",
       "      <td>300</td>\n",
       "      <td>0.0</td>\n",
       "      <td>0.0</td>\n",
       "      <td>0.0</td>\n",
       "      <td>3390</td>\n",
       "      <td>1</td>\n",
       "    </tr>\n",
       "    <tr>\n",
       "      <th>1128</th>\n",
       "      <td>150</td>\n",
       "      <td>300</td>\n",
       "      <td>0.0</td>\n",
       "      <td>0.0</td>\n",
       "      <td>0.0</td>\n",
       "      <td>3972</td>\n",
       "      <td>1</td>\n",
       "    </tr>\n",
       "    <tr>\n",
       "      <th>1127</th>\n",
       "      <td>152</td>\n",
       "      <td>350</td>\n",
       "      <td>0.0</td>\n",
       "      <td>0.0</td>\n",
       "      <td>0.0</td>\n",
       "      <td>4023</td>\n",
       "      <td>1</td>\n",
       "    </tr>\n",
       "    <tr>\n",
       "      <th>1126</th>\n",
       "      <td>152</td>\n",
       "      <td>350</td>\n",
       "      <td>0.0</td>\n",
       "      <td>0.0</td>\n",
       "      <td>0.0</td>\n",
       "      <td>2947</td>\n",
       "      <td>1</td>\n",
       "    </tr>\n",
       "  </tbody>\n",
       "</table>\n",
       "</div>"
      ],
      "text/plain": [
       "        x    y  additional_three  additional_two  additional_one  duration_m  \\\n",
       "1130  200  200               0.0             0.0             0.0        3373   \n",
       "1129  150  300               0.0             0.0             0.0        3390   \n",
       "1128  150  300               0.0             0.0             0.0        3972   \n",
       "1127  152  350               0.0             0.0             0.0        4023   \n",
       "1126  152  350               0.0             0.0             0.0        2947   \n",
       "\n",
       "      parallel_processes  \n",
       "1130                   1  \n",
       "1129                   1  \n",
       "1128                   1  \n",
       "1127                   1  \n",
       "1126                   1  "
      ]
     },
     "execution_count": 91,
     "metadata": {},
     "output_type": "execute_result"
    }
   ],
   "source": [
    "data.drop(['duration', 'startTime','startTimeMillis', 'starttime_m', 'start', 'end', 'endpoint'], axis=1, inplace=True)\n",
    "data.to_csv('dataset_final.csv', index=False)\n",
    "data.head()\n"
   ]
  },
  {
   "cell_type": "markdown",
   "metadata": {},
   "source": [
    "# 2. Обучение модели"
   ]
  },
  {
   "cell_type": "markdown",
   "metadata": {},
   "source": [
    "Используем линейную регрессию из библиотеки scikit-learn. Данные подготавливаются путем разбиения на тренировочный и тестовый наборы, а затем модель обучается на тренировочных данных. После этого мы можем использовать обученную модель для предсказания продолжительности на тестовых данных и оценки качества модели с помощью коэффициента детерминации (R^2 score)."
   ]
  },
  {
   "cell_type": "code",
   "execution_count": 92,
   "metadata": {},
   "outputs": [],
   "source": [
    "from sklearn.linear_model import LinearRegression\n",
    "from sklearn.model_selection import train_test_split\n",
    "from sklearn.metrics import r2_score\n",
    "import matplotlib.pyplot as plt"
   ]
  },
  {
   "cell_type": "code",
   "execution_count": 93,
   "metadata": {},
   "outputs": [],
   "source": [
    "X = data[['x', 'y', 'additional_three', 'additional_two', 'additional_one', 'parallel_processes']]\n",
    "y = data['duration_m']"
   ]
  },
  {
   "cell_type": "code",
   "execution_count": 94,
   "metadata": {},
   "outputs": [],
   "source": [
    "X_train, X_test, y_train, y_test = train_test_split(X, y, test_size=0.2, random_state=42)"
   ]
  },
  {
   "cell_type": "code",
   "execution_count": 95,
   "metadata": {},
   "outputs": [
    {
     "data": {
      "text/plain": [
       "LinearRegression()"
      ]
     },
     "execution_count": 95,
     "metadata": {},
     "output_type": "execute_result"
    }
   ],
   "source": [
    "# Создание и обучение модели\n",
    "model = LinearRegression()\n",
    "model.fit(X_train, y_train)"
   ]
  },
  {
   "cell_type": "code",
   "execution_count": 96,
   "metadata": {},
   "outputs": [],
   "source": [
    "# Предсказание на тестовых данных\n",
    "y_pred = model.predict(X_test)"
   ]
  },
  {
   "cell_type": "code",
   "execution_count": 97,
   "metadata": {},
   "outputs": [
    {
     "data": {
      "image/png": "[encoded data removed]",
      "text/plain": [
       "<Figure size 640x480 with 1 Axes>"
      ]
     },
     "metadata": {},
     "output_type": "display_data"
    }
   ],
   "source": [
    "# построение графика обучения модели\n",
    "plt.plot(range(len(y)), y, label='Actual')\n",
    "plt.plot(range(len(y)), model.predict(X), label='Predicted')\n",
    "plt.legend()\n",
    "plt.show()"
   ]
  },
  {
   "cell_type": "markdown",
   "metadata": {},
   "source": [
    "Как видим, модель не очень хорошо справляется с выбросами"
   ]
  },
  {
   "cell_type": "code",
   "execution_count": 98,
   "metadata": {},
   "outputs": [
    {
     "name": "stdout",
     "output_type": "stream",
     "text": [
      "R^2 score: 0.6794454033531004\n"
     ]
    }
   ],
   "source": [
    "# Оценка качества модели\n",
    "r2 = r2_score(y_test, y_pred)\n",
    "print('R^2 score:', r2)"
   ]
  },
  {
   "cell_type": "code",
   "execution_count": 99,
   "metadata": {},
   "outputs": [],
   "source": [
    "from sklearn.preprocessing import PolynomialFeatures\n",
    "from sklearn.metrics import mean_squared_error"
   ]
  },
  {
   "cell_type": "code",
   "execution_count": 100,
   "metadata": {},
   "outputs": [
    {
     "name": "stdout",
     "output_type": "stream",
     "text": [
      "Intercept: 9934.63036273377\n",
      "Coefficients: [-1.94236548e-09 -6.04391491e+01 -5.62002346e+01 -9.15104068e+03\n",
      " -5.18208022e+03  7.15086445e+03 -1.10067337e+03  3.12264719e-02\n",
      "  2.49571634e-01  1.14754963e+01  4.87474797e+01 -1.86880187e+01\n",
      "  9.16333201e+00 -3.49238237e-03  1.26647826e+02  4.21423094e+01\n",
      " -1.86304904e+01  9.52243289e+00 -9.15104068e+03  2.72848411e-12\n",
      "  2.72848411e-12  6.82768704e+03 -5.18208022e+03  0.00000000e+00\n",
      "  3.72623568e+03  7.15086445e+03  1.37571769e+03 -1.76492336e+01]\n"
     ]
    },
    {
     "data": {
      "image/png": "[encoded data removed]",
      "text/plain": [
       "<Figure size 640x480 with 1 Axes>"
      ]
     },
     "metadata": {},
     "output_type": "display_data"
    },
    {
     "name": "stdout",
     "output_type": "stream",
     "text": [
      "R^2 score: 0.8735650705020729\n"
     ]
    }
   ],
   "source": [
    "# Создаем объект для преобразования данных\n",
    "poly = PolynomialFeatures(degree=2)\n",
    "\n",
    "# Преобразуем признаки\n",
    "X_poly = poly.fit_transform(X)\n",
    "\n",
    "X_train, X_test, y_train, y_test = train_test_split(X_poly, y, test_size=0.2, random_state=42)\n",
    "\n",
    "model = LinearRegression()\n",
    "model.fit(X_train, y_train)\n",
    "\n",
    "y_pred = model.predict(X_test)\n",
    "\n",
    "# построение графика обучения модели\n",
    "plt.plot(range(len(y)), y, label='Actual')\n",
    "plt.plot(range(len(y)), model.predict(X_poly), label='Predicted')\n",
    "plt.legend()\n",
    "plt.show()\n",
    "\n",
    "r2 = r2_score(y_test, y_pred)\n",
    "print('R^2 score:', r2)"
   ]
  },
  {
   "cell_type": "markdown",
   "metadata": {},
   "source": [
    "При использовании  полиномиального преобразования точность выросла"
   ]
  },
  {
   "cell_type": "code",
   "execution_count": null,
   "metadata": {},
   "outputs": [],
   "source": []
  }
 ],
 "metadata": {
  "kernelspec": {
   "display_name": "Python 3 (ipykernel)",
   "language": "python",
   "name": "python3"
  },
  "language_info": {
   "codemirror_mode": {
    "name": "ipython",
    "version": 3
   },
   "file_extension": ".py",
   "mimetype": "text/x-python",
   "name": "python",
   "nbconvert_exporter": "python",
   "pygments_lexer": "ipython3",
   "version": "3.9.13"
  }
 },
 "nbformat": 4,
 "nbformat_minor": 2
}
