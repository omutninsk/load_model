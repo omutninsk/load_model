{
 "cells": [
  {
   "cell_type": "markdown",
   "metadata": {},
   "source": [
    "Допустим, у нас есть следующие данные для обучения модели:\n",
    "\n",
    "Количество запросов по каждому эндпоинту\n",
    "Время выполнения запроса для каждого эндпоинта\n",
    "Количество обрабатываемых в настоящий момент запросов каждым эндпоинтом\n",
    "Поля запроса\n",
    "\n",
    "время выполнения запроса = константа + a * количество запросов за квант времени +  c * количество обрабатываемых запросов\n",
    "\n",
    "\n"
   ]
  },
  {
   "cell_type": "markdown",
   "metadata": {},
   "source": [
    "Для сбора трейсов создаем два микросервиса\n",
    "Первый запускает указанное количество параллельных запросов на второй, поведение которого нас интересует"
   ]
  },
  {
   "cell_type": "markdown",
   "metadata": {},
   "source": [
    "# 1. Подготовка данных"
   ]
  },
  {
   "cell_type": "markdown",
   "metadata": {},
   "source": [
    "Выгружаем логи из Kibana и формируем датасет"
   ]
  },
  {
   "cell_type": "code",
   "execution_count": 1,
   "metadata": {},
   "outputs": [],
   "source": [
    "import pandas as pd"
   ]
  },
  {
   "cell_type": "code",
   "execution_count": 2,
   "metadata": {},
   "outputs": [],
   "source": [
    "data = pd.read_csv('dataset.csv', sep = ',')"
   ]
  },
  {
   "cell_type": "code",
   "execution_count": 3,
   "metadata": {},
   "outputs": [
    {
     "data": {
      "text/html": [
       "<div>\n",
       "<style scoped>\n",
       "    .dataframe tbody tr th:only-of-type {\n",
       "        vertical-align: middle;\n",
       "    }\n",
       "\n",
       "    .dataframe tbody tr th {\n",
       "        vertical-align: top;\n",
       "    }\n",
       "\n",
       "    .dataframe thead th {\n",
       "        text-align: right;\n",
       "    }\n",
       "</style>\n",
       "<table border=\"1\" class=\"dataframe\">\n",
       "  <thead>\n",
       "    <tr style=\"text-align: right;\">\n",
       "      <th></th>\n",
       "      <th>_id</th>\n",
       "      <th>_index</th>\n",
       "      <th>_score</th>\n",
       "      <th>_type</th>\n",
       "      <th>duration</th>\n",
       "      <th>flags</th>\n",
       "      <th>logs</th>\n",
       "      <th>operationName</th>\n",
       "      <th>process.serviceName</th>\n",
       "      <th>process.tags</th>\n",
       "      <th>references</th>\n",
       "      <th>spanID</th>\n",
       "      <th>startTime</th>\n",
       "      <th>startTimeMillis</th>\n",
       "      <th>tags</th>\n",
       "      <th>traceID</th>\n",
       "    </tr>\n",
       "  </thead>\n",
       "  <tbody>\n",
       "    <tr>\n",
       "      <th>0</th>\n",
       "      <td>SBLFPYcB2l6FFtNvAOI_</td>\n",
       "      <td>jaeger-span-2023-04-01</td>\n",
       "      <td>NaN</td>\n",
       "      <td>_doc</td>\n",
       "      <td>11,134,287</td>\n",
       "      <td>1</td>\n",
       "      <td>[]</td>\n",
       "      <td>/generate_image</td>\n",
       "      <td>microservice1</td>\n",
       "      <td>[]</td>\n",
       "      <td>[{\"refType\":\"CHILD_OF\",\"traceID\":\"6a4f6c9ac042...</td>\n",
       "      <td>cebfe836833e2928</td>\n",
       "      <td>1,680,368,519,439,038</td>\n",
       "      <td>Apr 1, 2023 @ 17:01:59.439</td>\n",
       "      <td>[{\"key\":\"http.method\",\"type\":\"string\",\"value\":...</td>\n",
       "      <td>6a4f6c9ac042bb15625ca73744a3e20c</td>\n",
       "    </tr>\n",
       "    <tr>\n",
       "      <th>1</th>\n",
       "      <td>SxLFPYcB2l6FFtNvAOI_</td>\n",
       "      <td>jaeger-span-2023-04-01</td>\n",
       "      <td>NaN</td>\n",
       "      <td>_doc</td>\n",
       "      <td>14,217,736</td>\n",
       "      <td>1</td>\n",
       "      <td>[]</td>\n",
       "      <td>/generate_image</td>\n",
       "      <td>microservice1</td>\n",
       "      <td>[]</td>\n",
       "      <td>[{\"refType\":\"CHILD_OF\",\"traceID\":\"5db9064592c5...</td>\n",
       "      <td>3b4ae2984cdde39a</td>\n",
       "      <td>1,680,368,517,689,946</td>\n",
       "      <td>Apr 1, 2023 @ 17:01:57.689</td>\n",
       "      <td>[{\"key\":\"http.method\",\"type\":\"string\",\"value\":...</td>\n",
       "      <td>5db9064592c5c99b24567628d9c2c858</td>\n",
       "    </tr>\n",
       "    <tr>\n",
       "      <th>2</th>\n",
       "      <td>LBLEPYcB2l6FFtNv1uLW</td>\n",
       "      <td>jaeger-span-2023-04-01</td>\n",
       "      <td>NaN</td>\n",
       "      <td>_doc</td>\n",
       "      <td>1,919,361</td>\n",
       "      <td>1</td>\n",
       "      <td>[]</td>\n",
       "      <td>/generate_image</td>\n",
       "      <td>microservice1</td>\n",
       "      <td>[]</td>\n",
       "      <td>[{\"refType\":\"CHILD_OF\",\"traceID\":\"c276ea34f545...</td>\n",
       "      <td>c6d301cb75970abc</td>\n",
       "      <td>1,680,368,517,497,959</td>\n",
       "      <td>Apr 1, 2023 @ 17:01:57.497</td>\n",
       "      <td>[{\"key\":\"http.method\",\"type\":\"string\",\"value\":...</td>\n",
       "      <td>c276ea34f5457d57ab93705a6d6a7440</td>\n",
       "    </tr>\n",
       "    <tr>\n",
       "      <th>3</th>\n",
       "      <td>RhLFPYcB2l6FFtNvAOI_</td>\n",
       "      <td>jaeger-span-2023-04-01</td>\n",
       "      <td>NaN</td>\n",
       "      <td>_doc</td>\n",
       "      <td>18,544,720</td>\n",
       "      <td>1</td>\n",
       "      <td>[]</td>\n",
       "      <td>/generate_image</td>\n",
       "      <td>microservice1</td>\n",
       "      <td>[]</td>\n",
       "      <td>[{\"refType\":\"CHILD_OF\",\"traceID\":\"7e86c07a6753...</td>\n",
       "      <td>09e2bc29d3d3f7af</td>\n",
       "      <td>1,680,368,513,084,708</td>\n",
       "      <td>Apr 1, 2023 @ 17:01:53.084</td>\n",
       "      <td>[{\"key\":\"http.method\",\"type\":\"string\",\"value\":...</td>\n",
       "      <td>7e86c07a67535107b743a3fa3cf54daa</td>\n",
       "    </tr>\n",
       "    <tr>\n",
       "      <th>4</th>\n",
       "      <td>LhLEPYcB2l6FFtNv1uLW</td>\n",
       "      <td>jaeger-span-2023-04-01</td>\n",
       "      <td>NaN</td>\n",
       "      <td>_doc</td>\n",
       "      <td>6,652,137</td>\n",
       "      <td>1</td>\n",
       "      <td>[]</td>\n",
       "      <td>/generate_image</td>\n",
       "      <td>microservice1</td>\n",
       "      <td>[]</td>\n",
       "      <td>[{\"refType\":\"CHILD_OF\",\"traceID\":\"979f8fcddafd...</td>\n",
       "      <td>6676906f444be20c</td>\n",
       "      <td>1,680,368,512,983,191</td>\n",
       "      <td>Apr 1, 2023 @ 17:01:52.983</td>\n",
       "      <td>[{\"key\":\"http.method\",\"type\":\"string\",\"value\":...</td>\n",
       "      <td>979f8fcddafd7971eeca4b3df3ec04b0</td>\n",
       "    </tr>\n",
       "  </tbody>\n",
       "</table>\n",
       "</div>"
      ],
      "text/plain": [
       "                    _id                  _index  _score _type    duration  \\\n",
       "0  SBLFPYcB2l6FFtNvAOI_  jaeger-span-2023-04-01     NaN  _doc  11,134,287   \n",
       "1  SxLFPYcB2l6FFtNvAOI_  jaeger-span-2023-04-01     NaN  _doc  14,217,736   \n",
       "2  LBLEPYcB2l6FFtNv1uLW  jaeger-span-2023-04-01     NaN  _doc   1,919,361   \n",
       "3  RhLFPYcB2l6FFtNvAOI_  jaeger-span-2023-04-01     NaN  _doc  18,544,720   \n",
       "4  LhLEPYcB2l6FFtNv1uLW  jaeger-span-2023-04-01     NaN  _doc   6,652,137   \n",
       "\n",
       "   flags logs    operationName process.serviceName process.tags  \\\n",
       "0      1   []  /generate_image       microservice1           []   \n",
       "1      1   []  /generate_image       microservice1           []   \n",
       "2      1   []  /generate_image       microservice1           []   \n",
       "3      1   []  /generate_image       microservice1           []   \n",
       "4      1   []  /generate_image       microservice1           []   \n",
       "\n",
       "                                          references            spanID  \\\n",
       "0  [{\"refType\":\"CHILD_OF\",\"traceID\":\"6a4f6c9ac042...  cebfe836833e2928   \n",
       "1  [{\"refType\":\"CHILD_OF\",\"traceID\":\"5db9064592c5...  3b4ae2984cdde39a   \n",
       "2  [{\"refType\":\"CHILD_OF\",\"traceID\":\"c276ea34f545...  c6d301cb75970abc   \n",
       "3  [{\"refType\":\"CHILD_OF\",\"traceID\":\"7e86c07a6753...  09e2bc29d3d3f7af   \n",
       "4  [{\"refType\":\"CHILD_OF\",\"traceID\":\"979f8fcddafd...  6676906f444be20c   \n",
       "\n",
       "               startTime             startTimeMillis  \\\n",
       "0  1,680,368,519,439,038  Apr 1, 2023 @ 17:01:59.439   \n",
       "1  1,680,368,517,689,946  Apr 1, 2023 @ 17:01:57.689   \n",
       "2  1,680,368,517,497,959  Apr 1, 2023 @ 17:01:57.497   \n",
       "3  1,680,368,513,084,708  Apr 1, 2023 @ 17:01:53.084   \n",
       "4  1,680,368,512,983,191  Apr 1, 2023 @ 17:01:52.983   \n",
       "\n",
       "                                                tags  \\\n",
       "0  [{\"key\":\"http.method\",\"type\":\"string\",\"value\":...   \n",
       "1  [{\"key\":\"http.method\",\"type\":\"string\",\"value\":...   \n",
       "2  [{\"key\":\"http.method\",\"type\":\"string\",\"value\":...   \n",
       "3  [{\"key\":\"http.method\",\"type\":\"string\",\"value\":...   \n",
       "4  [{\"key\":\"http.method\",\"type\":\"string\",\"value\":...   \n",
       "\n",
       "                            traceID  \n",
       "0  6a4f6c9ac042bb15625ca73744a3e20c  \n",
       "1  5db9064592c5c99b24567628d9c2c858  \n",
       "2  c276ea34f5457d57ab93705a6d6a7440  \n",
       "3  7e86c07a67535107b743a3fa3cf54daa  \n",
       "4  979f8fcddafd7971eeca4b3df3ec04b0  "
      ]
     },
     "execution_count": 3,
     "metadata": {},
     "output_type": "execute_result"
    }
   ],
   "source": [
    "data.head()"
   ]
  },
  {
   "cell_type": "markdown",
   "metadata": {},
   "source": [
    "Теперь необходимо преобразовать данные в нужный формат."
   ]
  },
  {
   "cell_type": "markdown",
   "metadata": {},
   "source": [
    "Сначала необходимо извлечь из столбца ***tags*** данные о запросе - эндпоинт и параметры запроса "
   ]
  },
  {
   "cell_type": "code",
   "execution_count": 4,
   "metadata": {},
   "outputs": [],
   "source": [
    "import re\n",
    "def get_endpoint_data(data):\n",
    "    pattern = pattern = r'\"key\":\"http.target\",\"type\":\"string\",\"value\":\"([^\"]+)\"'\n",
    "    match = re.search(pattern, data)\n",
    "    if match:\n",
    "        url = match.group(1)\n",
    "        return match.group(1)\n",
    "    else:\n",
    "        print('Value not found.')\n",
    "    "
   ]
  },
  {
   "cell_type": "code",
   "execution_count": 5,
   "metadata": {},
   "outputs": [],
   "source": [
    "data['endpoint'] = data['tags'].apply(get_endpoint_data)"
   ]
  },
  {
   "cell_type": "markdown",
   "metadata": {},
   "source": [
    "Удаляем ненужные столбцы"
   ]
  },
  {
   "cell_type": "code",
   "execution_count": 6,
   "metadata": {},
   "outputs": [
    {
     "data": {
      "text/html": [
       "<div>\n",
       "<style scoped>\n",
       "    .dataframe tbody tr th:only-of-type {\n",
       "        vertical-align: middle;\n",
       "    }\n",
       "\n",
       "    .dataframe tbody tr th {\n",
       "        vertical-align: top;\n",
       "    }\n",
       "\n",
       "    .dataframe thead th {\n",
       "        text-align: right;\n",
       "    }\n",
       "</style>\n",
       "<table border=\"1\" class=\"dataframe\">\n",
       "  <thead>\n",
       "    <tr style=\"text-align: right;\">\n",
       "      <th></th>\n",
       "      <th>duration</th>\n",
       "      <th>startTime</th>\n",
       "      <th>startTimeMillis</th>\n",
       "      <th>endpoint</th>\n",
       "    </tr>\n",
       "  </thead>\n",
       "  <tbody>\n",
       "    <tr>\n",
       "      <th>0</th>\n",
       "      <td>11,134,287</td>\n",
       "      <td>1,680,368,519,439,038</td>\n",
       "      <td>Apr 1, 2023 @ 17:01:59.439</td>\n",
       "      <td>/generate_image?x=244&amp;y=82</td>\n",
       "    </tr>\n",
       "    <tr>\n",
       "      <th>1</th>\n",
       "      <td>14,217,736</td>\n",
       "      <td>1,680,368,517,689,946</td>\n",
       "      <td>Apr 1, 2023 @ 17:01:57.689</td>\n",
       "      <td>/generate_image?x=307&amp;y=120</td>\n",
       "    </tr>\n",
       "    <tr>\n",
       "      <th>2</th>\n",
       "      <td>1,919,361</td>\n",
       "      <td>1,680,368,517,497,959</td>\n",
       "      <td>Apr 1, 2023 @ 17:01:57.497</td>\n",
       "      <td>/generate_image?x=108&amp;y=51</td>\n",
       "    </tr>\n",
       "    <tr>\n",
       "      <th>3</th>\n",
       "      <td>18,544,720</td>\n",
       "      <td>1,680,368,513,084,708</td>\n",
       "      <td>Apr 1, 2023 @ 17:01:53.084</td>\n",
       "      <td>/generate_image?x=207&amp;y=178</td>\n",
       "    </tr>\n",
       "    <tr>\n",
       "      <th>4</th>\n",
       "      <td>6,652,137</td>\n",
       "      <td>1,680,368,512,983,191</td>\n",
       "      <td>Apr 1, 2023 @ 17:01:52.983</td>\n",
       "      <td>/generate_image?x=217&amp;y=50</td>\n",
       "    </tr>\n",
       "  </tbody>\n",
       "</table>\n",
       "</div>"
      ],
      "text/plain": [
       "     duration              startTime             startTimeMillis  \\\n",
       "0  11,134,287  1,680,368,519,439,038  Apr 1, 2023 @ 17:01:59.439   \n",
       "1  14,217,736  1,680,368,517,689,946  Apr 1, 2023 @ 17:01:57.689   \n",
       "2   1,919,361  1,680,368,517,497,959  Apr 1, 2023 @ 17:01:57.497   \n",
       "3  18,544,720  1,680,368,513,084,708  Apr 1, 2023 @ 17:01:53.084   \n",
       "4   6,652,137  1,680,368,512,983,191  Apr 1, 2023 @ 17:01:52.983   \n",
       "\n",
       "                      endpoint  \n",
       "0   /generate_image?x=244&y=82  \n",
       "1  /generate_image?x=307&y=120  \n",
       "2   /generate_image?x=108&y=51  \n",
       "3  /generate_image?x=207&y=178  \n",
       "4   /generate_image?x=217&y=50  "
      ]
     },
     "execution_count": 6,
     "metadata": {},
     "output_type": "execute_result"
    }
   ],
   "source": [
    "data.drop(['_id','_index','_score','_type','flags','logs','operationName', 'process.tags','process.serviceName','spanID', 'tags', 'traceID', 'references'], axis=1, inplace=True)\n",
    "data.head()"
   ]
  },
  {
   "cell_type": "markdown",
   "metadata": {},
   "source": [
    "Теперь необходимо извлечь параметры из столбца ***endpoint*** нужно извлечь параметры и добавить в датасет столбцы с их названием и присвоить им их значения. Если значение параметра — строка, применяем *one hot encoding*"
   ]
  },
  {
   "cell_type": "code",
   "execution_count": 7,
   "metadata": {},
   "outputs": [],
   "source": [
    "# Регулярное выражение для извлечения параметров запроса и их значений\n",
    "pattern = r'\\?([^#]*)'\n",
    "\n",
    "# Извлечение пути запроса и параметров\n",
    "params = data['endpoint'].apply(lambda x: re.search(pattern, x).group(1))\n",
    "\n",
    "# Создание списка параметров запроса\n",
    "param_names = []\n",
    "for param in params:\n",
    "    param_list = param.split('&')\n",
    "    for p in param_list:\n",
    "        name, value = p.split('=')\n",
    "        if name not in param_names:\n",
    "            param_names.append(name)"
   ]
  },
  {
   "cell_type": "code",
   "execution_count": 8,
   "metadata": {},
   "outputs": [
    {
     "data": {
      "text/plain": [
       "['x', 'y', 'additional']"
      ]
     },
     "execution_count": 8,
     "metadata": {},
     "output_type": "execute_result"
    }
   ],
   "source": [
    "# Извлеченные названия параметров\n",
    "param_names"
   ]
  },
  {
   "cell_type": "code",
   "execution_count": 9,
   "metadata": {},
   "outputs": [],
   "source": [
    "# Создание нового датафрейма для параметров запроса\n",
    "df = None\n",
    "params_df=None\n",
    "params_df = pd.DataFrame(columns=param_names)\n",
    "for i, param in enumerate(params):\n",
    "    param_list = param.split('&')\n",
    "    param_values = {}\n",
    "    for p in param_list:\n",
    "        name, value = p.split('=')\n",
    "        #param_values[name] = value\n",
    "        try:\n",
    "            param_values[name] = int(value)\n",
    "        except:\n",
    "            if isinstance(value, str):\n",
    "                param_values[name+'_'+value] = 1\n",
    "    df = pd.concat([df, pd.DataFrame.from_records([param_values])])"
   ]
  },
  {
   "cell_type": "code",
   "execution_count": 10,
   "metadata": {},
   "outputs": [
    {
     "data": {
      "text/html": [
       "<div>\n",
       "<style scoped>\n",
       "    .dataframe tbody tr th:only-of-type {\n",
       "        vertical-align: middle;\n",
       "    }\n",
       "\n",
       "    .dataframe tbody tr th {\n",
       "        vertical-align: top;\n",
       "    }\n",
       "\n",
       "    .dataframe thead th {\n",
       "        text-align: right;\n",
       "    }\n",
       "</style>\n",
       "<table border=\"1\" class=\"dataframe\">\n",
       "  <thead>\n",
       "    <tr style=\"text-align: right;\">\n",
       "      <th></th>\n",
       "      <th>x</th>\n",
       "      <th>y</th>\n",
       "      <th>additional_three</th>\n",
       "      <th>additional_two</th>\n",
       "      <th>additional_one</th>\n",
       "    </tr>\n",
       "  </thead>\n",
       "  <tbody>\n",
       "    <tr>\n",
       "      <th>0</th>\n",
       "      <td>244</td>\n",
       "      <td>82</td>\n",
       "      <td>0.0</td>\n",
       "      <td>0.0</td>\n",
       "      <td>0.0</td>\n",
       "    </tr>\n",
       "    <tr>\n",
       "      <th>1</th>\n",
       "      <td>307</td>\n",
       "      <td>120</td>\n",
       "      <td>0.0</td>\n",
       "      <td>0.0</td>\n",
       "      <td>0.0</td>\n",
       "    </tr>\n",
       "    <tr>\n",
       "      <th>2</th>\n",
       "      <td>108</td>\n",
       "      <td>51</td>\n",
       "      <td>0.0</td>\n",
       "      <td>0.0</td>\n",
       "      <td>0.0</td>\n",
       "    </tr>\n",
       "    <tr>\n",
       "      <th>3</th>\n",
       "      <td>207</td>\n",
       "      <td>178</td>\n",
       "      <td>0.0</td>\n",
       "      <td>0.0</td>\n",
       "      <td>0.0</td>\n",
       "    </tr>\n",
       "    <tr>\n",
       "      <th>4</th>\n",
       "      <td>217</td>\n",
       "      <td>50</td>\n",
       "      <td>0.0</td>\n",
       "      <td>0.0</td>\n",
       "      <td>0.0</td>\n",
       "    </tr>\n",
       "  </tbody>\n",
       "</table>\n",
       "</div>"
      ],
      "text/plain": [
       "     x    y  additional_three  additional_two  additional_one\n",
       "0  244   82               0.0             0.0             0.0\n",
       "1  307  120               0.0             0.0             0.0\n",
       "2  108   51               0.0             0.0             0.0\n",
       "3  207  178               0.0             0.0             0.0\n",
       "4  217   50               0.0             0.0             0.0"
      ]
     },
     "execution_count": 10,
     "metadata": {},
     "output_type": "execute_result"
    }
   ],
   "source": [
    "df = df.reset_index(drop=True)\n",
    "df.fillna(0, inplace=True)\n",
    "df.head()"
   ]
  },
  {
   "cell_type": "code",
   "execution_count": 11,
   "metadata": {},
   "outputs": [
    {
     "data": {
      "text/html": [
       "<div>\n",
       "<style scoped>\n",
       "    .dataframe tbody tr th:only-of-type {\n",
       "        vertical-align: middle;\n",
       "    }\n",
       "\n",
       "    .dataframe tbody tr th {\n",
       "        vertical-align: top;\n",
       "    }\n",
       "\n",
       "    .dataframe thead th {\n",
       "        text-align: right;\n",
       "    }\n",
       "</style>\n",
       "<table border=\"1\" class=\"dataframe\">\n",
       "  <thead>\n",
       "    <tr style=\"text-align: right;\">\n",
       "      <th></th>\n",
       "      <th>duration</th>\n",
       "      <th>startTime</th>\n",
       "      <th>startTimeMillis</th>\n",
       "      <th>endpoint</th>\n",
       "      <th>x</th>\n",
       "      <th>y</th>\n",
       "      <th>additional_three</th>\n",
       "      <th>additional_two</th>\n",
       "      <th>additional_one</th>\n",
       "    </tr>\n",
       "  </thead>\n",
       "  <tbody>\n",
       "    <tr>\n",
       "      <th>0</th>\n",
       "      <td>11,134,287</td>\n",
       "      <td>1,680,368,519,439,038</td>\n",
       "      <td>Apr 1, 2023 @ 17:01:59.439</td>\n",
       "      <td>/generate_image?x=244&amp;y=82</td>\n",
       "      <td>244</td>\n",
       "      <td>82</td>\n",
       "      <td>0.0</td>\n",
       "      <td>0.0</td>\n",
       "      <td>0.0</td>\n",
       "    </tr>\n",
       "    <tr>\n",
       "      <th>1</th>\n",
       "      <td>14,217,736</td>\n",
       "      <td>1,680,368,517,689,946</td>\n",
       "      <td>Apr 1, 2023 @ 17:01:57.689</td>\n",
       "      <td>/generate_image?x=307&amp;y=120</td>\n",
       "      <td>307</td>\n",
       "      <td>120</td>\n",
       "      <td>0.0</td>\n",
       "      <td>0.0</td>\n",
       "      <td>0.0</td>\n",
       "    </tr>\n",
       "    <tr>\n",
       "      <th>2</th>\n",
       "      <td>1,919,361</td>\n",
       "      <td>1,680,368,517,497,959</td>\n",
       "      <td>Apr 1, 2023 @ 17:01:57.497</td>\n",
       "      <td>/generate_image?x=108&amp;y=51</td>\n",
       "      <td>108</td>\n",
       "      <td>51</td>\n",
       "      <td>0.0</td>\n",
       "      <td>0.0</td>\n",
       "      <td>0.0</td>\n",
       "    </tr>\n",
       "    <tr>\n",
       "      <th>3</th>\n",
       "      <td>18,544,720</td>\n",
       "      <td>1,680,368,513,084,708</td>\n",
       "      <td>Apr 1, 2023 @ 17:01:53.084</td>\n",
       "      <td>/generate_image?x=207&amp;y=178</td>\n",
       "      <td>207</td>\n",
       "      <td>178</td>\n",
       "      <td>0.0</td>\n",
       "      <td>0.0</td>\n",
       "      <td>0.0</td>\n",
       "    </tr>\n",
       "    <tr>\n",
       "      <th>4</th>\n",
       "      <td>6,652,137</td>\n",
       "      <td>1,680,368,512,983,191</td>\n",
       "      <td>Apr 1, 2023 @ 17:01:52.983</td>\n",
       "      <td>/generate_image?x=217&amp;y=50</td>\n",
       "      <td>217</td>\n",
       "      <td>50</td>\n",
       "      <td>0.0</td>\n",
       "      <td>0.0</td>\n",
       "      <td>0.0</td>\n",
       "    </tr>\n",
       "  </tbody>\n",
       "</table>\n",
       "</div>"
      ],
      "text/plain": [
       "     duration              startTime             startTimeMillis  \\\n",
       "0  11,134,287  1,680,368,519,439,038  Apr 1, 2023 @ 17:01:59.439   \n",
       "1  14,217,736  1,680,368,517,689,946  Apr 1, 2023 @ 17:01:57.689   \n",
       "2   1,919,361  1,680,368,517,497,959  Apr 1, 2023 @ 17:01:57.497   \n",
       "3  18,544,720  1,680,368,513,084,708  Apr 1, 2023 @ 17:01:53.084   \n",
       "4   6,652,137  1,680,368,512,983,191  Apr 1, 2023 @ 17:01:52.983   \n",
       "\n",
       "                      endpoint    x    y  additional_three  additional_two  \\\n",
       "0   /generate_image?x=244&y=82  244   82               0.0             0.0   \n",
       "1  /generate_image?x=307&y=120  307  120               0.0             0.0   \n",
       "2   /generate_image?x=108&y=51  108   51               0.0             0.0   \n",
       "3  /generate_image?x=207&y=178  207  178               0.0             0.0   \n",
       "4   /generate_image?x=217&y=50  217   50               0.0             0.0   \n",
       "\n",
       "   additional_one  \n",
       "0             0.0  \n",
       "1             0.0  \n",
       "2             0.0  \n",
       "3             0.0  \n",
       "4             0.0  "
      ]
     },
     "execution_count": 11,
     "metadata": {},
     "output_type": "execute_result"
    }
   ],
   "source": [
    "# Объединяем датафреймы\n",
    "data = pd.merge(data, df, left_index=True, right_index=True)\n",
    "data.head()"
   ]
  },
  {
   "cell_type": "markdown",
   "metadata": {},
   "source": [
    "Теперь преобразуем значения столбцов со временем и удалим лишние столбцы"
   ]
  },
  {
   "cell_type": "code",
   "execution_count": 12,
   "metadata": {},
   "outputs": [],
   "source": [
    "# Преобразуем значение из логов в количество миллисекунд\n",
    "def transform_time(s):\n",
    "    items = s.split(',')\n",
    "    \n",
    "    # Возвращаем без миллионнных долей секунды\n",
    "    return ''.join(items[:-1])\n",
    "\n",
    "data['starttime_m'] = data['startTime'].apply(transform_time)\n",
    "data['duration_m'] = data['duration'].apply(transform_time)"
   ]
  },
  {
   "cell_type": "code",
   "execution_count": null,
   "metadata": {},
   "outputs": [],
   "source": []
  },
  {
   "cell_type": "code",
   "execution_count": 13,
   "metadata": {},
   "outputs": [
    {
     "data": {
      "text/html": [
       "<div>\n",
       "<style scoped>\n",
       "    .dataframe tbody tr th:only-of-type {\n",
       "        vertical-align: middle;\n",
       "    }\n",
       "\n",
       "    .dataframe tbody tr th {\n",
       "        vertical-align: top;\n",
       "    }\n",
       "\n",
       "    .dataframe thead th {\n",
       "        text-align: right;\n",
       "    }\n",
       "</style>\n",
       "<table border=\"1\" class=\"dataframe\">\n",
       "  <thead>\n",
       "    <tr style=\"text-align: right;\">\n",
       "      <th></th>\n",
       "      <th>duration</th>\n",
       "      <th>startTime</th>\n",
       "      <th>startTimeMillis</th>\n",
       "      <th>endpoint</th>\n",
       "      <th>x</th>\n",
       "      <th>y</th>\n",
       "      <th>additional_three</th>\n",
       "      <th>additional_two</th>\n",
       "      <th>additional_one</th>\n",
       "      <th>starttime_m</th>\n",
       "      <th>duration_m</th>\n",
       "    </tr>\n",
       "  </thead>\n",
       "  <tbody>\n",
       "    <tr>\n",
       "      <th>0</th>\n",
       "      <td>11,134,287</td>\n",
       "      <td>1,680,368,519,439,038</td>\n",
       "      <td>Apr 1, 2023 @ 17:01:59.439</td>\n",
       "      <td>/generate_image?x=244&amp;y=82</td>\n",
       "      <td>244</td>\n",
       "      <td>82</td>\n",
       "      <td>0.0</td>\n",
       "      <td>0.0</td>\n",
       "      <td>0.0</td>\n",
       "      <td>1680368519439</td>\n",
       "      <td>11134</td>\n",
       "    </tr>\n",
       "    <tr>\n",
       "      <th>1</th>\n",
       "      <td>14,217,736</td>\n",
       "      <td>1,680,368,517,689,946</td>\n",
       "      <td>Apr 1, 2023 @ 17:01:57.689</td>\n",
       "      <td>/generate_image?x=307&amp;y=120</td>\n",
       "      <td>307</td>\n",
       "      <td>120</td>\n",
       "      <td>0.0</td>\n",
       "      <td>0.0</td>\n",
       "      <td>0.0</td>\n",
       "      <td>1680368517689</td>\n",
       "      <td>14217</td>\n",
       "    </tr>\n",
       "    <tr>\n",
       "      <th>2</th>\n",
       "      <td>1,919,361</td>\n",
       "      <td>1,680,368,517,497,959</td>\n",
       "      <td>Apr 1, 2023 @ 17:01:57.497</td>\n",
       "      <td>/generate_image?x=108&amp;y=51</td>\n",
       "      <td>108</td>\n",
       "      <td>51</td>\n",
       "      <td>0.0</td>\n",
       "      <td>0.0</td>\n",
       "      <td>0.0</td>\n",
       "      <td>1680368517497</td>\n",
       "      <td>1919</td>\n",
       "    </tr>\n",
       "    <tr>\n",
       "      <th>3</th>\n",
       "      <td>18,544,720</td>\n",
       "      <td>1,680,368,513,084,708</td>\n",
       "      <td>Apr 1, 2023 @ 17:01:53.084</td>\n",
       "      <td>/generate_image?x=207&amp;y=178</td>\n",
       "      <td>207</td>\n",
       "      <td>178</td>\n",
       "      <td>0.0</td>\n",
       "      <td>0.0</td>\n",
       "      <td>0.0</td>\n",
       "      <td>1680368513084</td>\n",
       "      <td>18544</td>\n",
       "    </tr>\n",
       "    <tr>\n",
       "      <th>4</th>\n",
       "      <td>6,652,137</td>\n",
       "      <td>1,680,368,512,983,191</td>\n",
       "      <td>Apr 1, 2023 @ 17:01:52.983</td>\n",
       "      <td>/generate_image?x=217&amp;y=50</td>\n",
       "      <td>217</td>\n",
       "      <td>50</td>\n",
       "      <td>0.0</td>\n",
       "      <td>0.0</td>\n",
       "      <td>0.0</td>\n",
       "      <td>1680368512983</td>\n",
       "      <td>6652</td>\n",
       "    </tr>\n",
       "  </tbody>\n",
       "</table>\n",
       "</div>"
      ],
      "text/plain": [
       "     duration              startTime             startTimeMillis  \\\n",
       "0  11,134,287  1,680,368,519,439,038  Apr 1, 2023 @ 17:01:59.439   \n",
       "1  14,217,736  1,680,368,517,689,946  Apr 1, 2023 @ 17:01:57.689   \n",
       "2   1,919,361  1,680,368,517,497,959  Apr 1, 2023 @ 17:01:57.497   \n",
       "3  18,544,720  1,680,368,513,084,708  Apr 1, 2023 @ 17:01:53.084   \n",
       "4   6,652,137  1,680,368,512,983,191  Apr 1, 2023 @ 17:01:52.983   \n",
       "\n",
       "                      endpoint    x    y  additional_three  additional_two  \\\n",
       "0   /generate_image?x=244&y=82  244   82               0.0             0.0   \n",
       "1  /generate_image?x=307&y=120  307  120               0.0             0.0   \n",
       "2   /generate_image?x=108&y=51  108   51               0.0             0.0   \n",
       "3  /generate_image?x=207&y=178  207  178               0.0             0.0   \n",
       "4   /generate_image?x=217&y=50  217   50               0.0             0.0   \n",
       "\n",
       "   additional_one    starttime_m duration_m  \n",
       "0             0.0  1680368519439      11134  \n",
       "1             0.0  1680368517689      14217  \n",
       "2             0.0  1680368517497       1919  \n",
       "3             0.0  1680368513084      18544  \n",
       "4             0.0  1680368512983       6652  "
      ]
     },
     "execution_count": 13,
     "metadata": {},
     "output_type": "execute_result"
    }
   ],
   "source": [
    "data.head()"
   ]
  },
  {
   "cell_type": "code",
   "execution_count": 14,
   "metadata": {},
   "outputs": [
    {
     "name": "stdout",
     "output_type": "stream",
     "text": [
      "duration             object\n",
      "startTime            object\n",
      "startTimeMillis      object\n",
      "endpoint             object\n",
      "x                     int64\n",
      "y                     int64\n",
      "additional_three    float64\n",
      "additional_two      float64\n",
      "additional_one      float64\n",
      "starttime_m           int64\n",
      "duration_m            int64\n",
      "dtype: object\n"
     ]
    }
   ],
   "source": [
    "import numpy as np\n",
    "data['duration_m'] = data['duration_m'].astype(np.int64)\n",
    "data['starttime_m'] = data['starttime_m'].astype(np.int64)\n",
    "print(data.dtypes)"
   ]
  },
  {
   "cell_type": "code",
   "execution_count": 15,
   "metadata": {},
   "outputs": [],
   "source": [
    "#  Преобразование столбца starttime_m в формат datetime\n",
    "data['starttime_m'] = pd.to_datetime(data['starttime_m'], unit='ms')\n",
    "\n",
    "# Сортировка датафрейма по starttime_m\n",
    "data = data.sort_values(by=['starttime_m'])\n",
    "\n",
    "# Создание столбцов start и end\n",
    "data['start'] = data['starttime_m']\n",
    "data['end'] = data['start'] + pd.to_timedelta(data['duration_m'], unit='ms')\n",
    "\n",
    "# Создание столбца parallel_processes\n",
    "parallel_processes = []\n",
    "for i in range(len(data)):\n",
    "    start = data.iloc[i]['start']\n",
    "    end = data.iloc[i]['end']\n",
    "    parallel = len(data[(data['start'] <= start) & (data['end'] > start) | (data['start'] < end) & (data['end'] >= end)])\n",
    "    parallel_processes.append(parallel)\n",
    "data['parallel_processes'] = parallel_processes"
   ]
  },
  {
   "cell_type": "markdown",
   "metadata": {},
   "source": [
    "Удаляем лишние столбцы и получаем готовый датасет"
   ]
  },
  {
   "cell_type": "code",
   "execution_count": 16,
   "metadata": {},
   "outputs": [
    {
     "data": {
      "text/html": [
       "<div>\n",
       "<style scoped>\n",
       "    .dataframe tbody tr th:only-of-type {\n",
       "        vertical-align: middle;\n",
       "    }\n",
       "\n",
       "    .dataframe tbody tr th {\n",
       "        vertical-align: top;\n",
       "    }\n",
       "\n",
       "    .dataframe thead th {\n",
       "        text-align: right;\n",
       "    }\n",
       "</style>\n",
       "<table border=\"1\" class=\"dataframe\">\n",
       "  <thead>\n",
       "    <tr style=\"text-align: right;\">\n",
       "      <th></th>\n",
       "      <th>x</th>\n",
       "      <th>y</th>\n",
       "      <th>additional_three</th>\n",
       "      <th>additional_two</th>\n",
       "      <th>additional_one</th>\n",
       "      <th>duration_m</th>\n",
       "      <th>parallel_processes</th>\n",
       "    </tr>\n",
       "  </thead>\n",
       "  <tbody>\n",
       "    <tr>\n",
       "      <th>669</th>\n",
       "      <td>200</td>\n",
       "      <td>200</td>\n",
       "      <td>0.0</td>\n",
       "      <td>0.0</td>\n",
       "      <td>0.0</td>\n",
       "      <td>3373</td>\n",
       "      <td>1</td>\n",
       "    </tr>\n",
       "    <tr>\n",
       "      <th>668</th>\n",
       "      <td>150</td>\n",
       "      <td>300</td>\n",
       "      <td>0.0</td>\n",
       "      <td>0.0</td>\n",
       "      <td>0.0</td>\n",
       "      <td>3390</td>\n",
       "      <td>1</td>\n",
       "    </tr>\n",
       "    <tr>\n",
       "      <th>667</th>\n",
       "      <td>150</td>\n",
       "      <td>300</td>\n",
       "      <td>0.0</td>\n",
       "      <td>0.0</td>\n",
       "      <td>0.0</td>\n",
       "      <td>3972</td>\n",
       "      <td>1</td>\n",
       "    </tr>\n",
       "    <tr>\n",
       "      <th>666</th>\n",
       "      <td>152</td>\n",
       "      <td>350</td>\n",
       "      <td>0.0</td>\n",
       "      <td>0.0</td>\n",
       "      <td>0.0</td>\n",
       "      <td>4023</td>\n",
       "      <td>1</td>\n",
       "    </tr>\n",
       "    <tr>\n",
       "      <th>665</th>\n",
       "      <td>152</td>\n",
       "      <td>350</td>\n",
       "      <td>0.0</td>\n",
       "      <td>0.0</td>\n",
       "      <td>0.0</td>\n",
       "      <td>2947</td>\n",
       "      <td>1</td>\n",
       "    </tr>\n",
       "  </tbody>\n",
       "</table>\n",
       "</div>"
      ],
      "text/plain": [
       "       x    y  additional_three  additional_two  additional_one  duration_m  \\\n",
       "669  200  200               0.0             0.0             0.0        3373   \n",
       "668  150  300               0.0             0.0             0.0        3390   \n",
       "667  150  300               0.0             0.0             0.0        3972   \n",
       "666  152  350               0.0             0.0             0.0        4023   \n",
       "665  152  350               0.0             0.0             0.0        2947   \n",
       "\n",
       "     parallel_processes  \n",
       "669                   1  \n",
       "668                   1  \n",
       "667                   1  \n",
       "666                   1  \n",
       "665                   1  "
      ]
     },
     "execution_count": 16,
     "metadata": {},
     "output_type": "execute_result"
    }
   ],
   "source": [
    "data.drop(['duration', 'startTime','startTimeMillis', 'starttime_m', 'start', 'end', 'endpoint'], axis=1, inplace=True)\n",
    "data.to_csv('dataset_final.csv', index=False)\n",
    "data.head()\n"
   ]
  },
  {
   "cell_type": "markdown",
   "metadata": {},
   "source": [
    "# 2. Обучение модели"
   ]
  },
  {
   "cell_type": "markdown",
   "metadata": {},
   "source": [
    "Используем линейную регрессию из библиотеки scikit-learn. Данные подготавливаются путем разбиения на тренировочный и тестовый наборы, а затем модель обучается на тренировочных данных. После этого мы можем использовать обученную модель для предсказания продолжительности на тестовых данных и оценки качества модели с помощью коэффициента детерминации (R^2 score)."
   ]
  },
  {
   "cell_type": "code",
   "execution_count": 17,
   "metadata": {},
   "outputs": [],
   "source": [
    "from sklearn.linear_model import LinearRegression\n",
    "from sklearn.model_selection import train_test_split\n",
    "from sklearn.metrics import r2_score"
   ]
  },
  {
   "cell_type": "code",
   "execution_count": 18,
   "metadata": {},
   "outputs": [],
   "source": [
    "X = data[['x', 'y', 'additional_three', 'additional_two', 'additional_one', 'parallel_processes']]\n",
    "y = data['duration_m']"
   ]
  },
  {
   "cell_type": "code",
   "execution_count": 19,
   "metadata": {},
   "outputs": [],
   "source": [
    "X_train, X_test, y_train, y_test = train_test_split(X, y, test_size=0.2, random_state=42)"
   ]
  },
  {
   "cell_type": "code",
   "execution_count": 20,
   "metadata": {},
   "outputs": [
    {
     "data": {
      "text/plain": [
       "LinearRegression()"
      ]
     },
     "execution_count": 20,
     "metadata": {},
     "output_type": "execute_result"
    }
   ],
   "source": [
    "# Создание и обучение модели\n",
    "model = LinearRegression()\n",
    "model.fit(X_train, y_train)"
   ]
  },
  {
   "cell_type": "code",
   "execution_count": 21,
   "metadata": {},
   "outputs": [],
   "source": [
    "# Предсказание на тестовых данных\n",
    "y_pred = model.predict(X_test)"
   ]
  },
  {
   "cell_type": "code",
   "execution_count": 22,
   "metadata": {},
   "outputs": [
    {
     "name": "stdout",
     "output_type": "stream",
     "text": [
      "R^2 score: 0.8229834139934271\n"
     ]
    }
   ],
   "source": [
    "# Оценка качества модели\n",
    "r2 = r2_score(y_test, y_pred)\n",
    "print('R^2 score:', r2)"
   ]
  },
  {
   "cell_type": "code",
   "execution_count": null,
   "metadata": {},
   "outputs": [],
   "source": []
  }
 ],
 "metadata": {
  "kernelspec": {
   "display_name": "Python 3 (ipykernel)",
   "language": "python",
   "name": "python3"
  },
  "language_info": {
   "codemirror_mode": {
    "name": "ipython",
    "version": 3
   },
   "file_extension": ".py",
   "mimetype": "text/x-python",
   "name": "python",
   "nbconvert_exporter": "python",
   "pygments_lexer": "ipython3",
   "version": "3.9.13"
  }
 },
 "nbformat": 4,
 "nbformat_minor": 2
}
